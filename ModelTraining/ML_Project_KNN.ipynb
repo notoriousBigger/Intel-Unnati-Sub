{
  "nbformat": 4,
  "nbformat_minor": 0,
  "metadata": {
    "colab": {
      "provenance": []
    },
    "kernelspec": {
      "name": "python3",
      "display_name": "Python 3"
    },
    "language_info": {
      "name": "python"
    }
  },
  "cells": [
    {
      "cell_type": "markdown",
      "source": [
        "# K Nearest Neighbours"
      ],
      "metadata": {
        "id": "LR522QnThKBY"
      }
    },
    {
      "cell_type": "code",
      "source": [
        "import pandas as pd\n",
        "from sklearn.neighbors import KNeighborsClassifier\n",
        "from sklearn.preprocessing import StandardScaler\n",
        "from sklearn.pipeline import make_pipeline\n",
        "from sklearn.model_selection import train_test_split\n",
        "import numpy as np\n",
        "import matplotlib.pyplot as plt"
      ],
      "metadata": {
        "id": "XsrVFRv2hMU7",
        "colab": {
          "base_uri": "https://localhost:8080/"
        },
        "outputId": "2c5440af-4fa5-4b8a-f625-2dafda97f61d"
      },
      "execution_count": null,
      "outputs": [
        {
          "output_type": "stream",
          "name": "stdout",
          "text": [
            "time: 1.52 ms (started: 2024-01-08 07:21:39 +00:00)\n"
          ]
        }
      ]
    },
    {
      "cell_type": "code",
      "source": [
        "!pip install ipython-autotime\n",
        "%load_ext autotime"
      ],
      "metadata": {
        "colab": {
          "base_uri": "https://localhost:8080/"
        },
        "id": "qUMNx1IChoIN",
        "outputId": "38fccfaa-8ff9-4d8d-b788-71062f083b49"
      },
      "execution_count": null,
      "outputs": [
        {
          "output_type": "stream",
          "name": "stdout",
          "text": [
            "Requirement already satisfied: ipython-autotime in /usr/local/lib/python3.10/dist-packages (0.3.2)\n",
            "Requirement already satisfied: ipython in /usr/local/lib/python3.10/dist-packages (from ipython-autotime) (7.34.0)\n",
            "Requirement already satisfied: setuptools>=18.5 in /usr/local/lib/python3.10/dist-packages (from ipython->ipython-autotime) (67.7.2)\n",
            "Requirement already satisfied: jedi>=0.16 in /usr/local/lib/python3.10/dist-packages (from ipython->ipython-autotime) (0.19.1)\n",
            "Requirement already satisfied: decorator in /usr/local/lib/python3.10/dist-packages (from ipython->ipython-autotime) (4.4.2)\n",
            "Requirement already satisfied: pickleshare in /usr/local/lib/python3.10/dist-packages (from ipython->ipython-autotime) (0.7.5)\n",
            "Requirement already satisfied: traitlets>=4.2 in /usr/local/lib/python3.10/dist-packages (from ipython->ipython-autotime) (5.7.1)\n",
            "Requirement already satisfied: prompt-toolkit!=3.0.0,!=3.0.1,<3.1.0,>=2.0.0 in /usr/local/lib/python3.10/dist-packages (from ipython->ipython-autotime) (3.0.43)\n",
            "Requirement already satisfied: pygments in /usr/local/lib/python3.10/dist-packages (from ipython->ipython-autotime) (2.16.1)\n",
            "Requirement already satisfied: backcall in /usr/local/lib/python3.10/dist-packages (from ipython->ipython-autotime) (0.2.0)\n",
            "Requirement already satisfied: matplotlib-inline in /usr/local/lib/python3.10/dist-packages (from ipython->ipython-autotime) (0.1.6)\n",
            "Requirement already satisfied: pexpect>4.3 in /usr/local/lib/python3.10/dist-packages (from ipython->ipython-autotime) (4.9.0)\n",
            "Requirement already satisfied: parso<0.9.0,>=0.8.3 in /usr/local/lib/python3.10/dist-packages (from jedi>=0.16->ipython->ipython-autotime) (0.8.3)\n",
            "Requirement already satisfied: ptyprocess>=0.5 in /usr/local/lib/python3.10/dist-packages (from pexpect>4.3->ipython->ipython-autotime) (0.7.0)\n",
            "Requirement already satisfied: wcwidth in /usr/local/lib/python3.10/dist-packages (from prompt-toolkit!=3.0.0,!=3.0.1,<3.1.0,>=2.0.0->ipython->ipython-autotime) (0.2.12)\n",
            "The autotime extension is already loaded. To reload it, use:\n",
            "  %reload_ext autotime\n",
            "time: 8.96 s (started: 2024-01-08 07:21:40 +00:00)\n"
          ]
        }
      ]
    },
    {
      "cell_type": "code",
      "source": [
        "from google.colab import drive\n",
        "drive.mount('/content/drive')"
      ],
      "metadata": {
        "colab": {
          "base_uri": "https://localhost:8080/"
        },
        "id": "EkFMkLrboxH_",
        "outputId": "5489ec5a-96b4-4fa3-a9fa-02c073be65b5"
      },
      "execution_count": null,
      "outputs": [
        {
          "output_type": "stream",
          "name": "stdout",
          "text": [
            "Drive already mounted at /content/drive; to attempt to forcibly remount, call drive.mount(\"/content/drive\", force_remount=True).\n",
            "time: 4.2 s (started: 2024-01-08 07:21:49 +00:00)\n"
          ]
        }
      ]
    },
    {
      "cell_type": "code",
      "source": [
        "datasets=[]\n",
        "models=[]\n",
        "for i in range(0,70):\n",
        "  df=pd.read_csv(f'/content/drive/MyDrive/CSE_4554_ML_PROJECT/datasets/dataset{i}.csv')\n",
        "  datasets.append(df)"
      ],
      "metadata": {
        "id": "yOMjoEtmhyVa",
        "colab": {
          "base_uri": "https://localhost:8080/"
        },
        "outputId": "fc50f383-c56d-40f5-c399-7f611a1fe698"
      },
      "execution_count": null,
      "outputs": [
        {
          "output_type": "stream",
          "name": "stdout",
          "text": [
            "time: 46 s (started: 2024-01-08 07:21:53 +00:00)\n"
          ]
        }
      ]
    },
    {
      "cell_type": "code",
      "source": [
        "for i in range(len(datasets)):\n",
        "  datasets[i]=datasets[i].drop(['filename','Unnamed: 0'],axis=1)"
      ],
      "metadata": {
        "colab": {
          "base_uri": "https://localhost:8080/"
        },
        "id": "EJwUx_o2AsCI",
        "outputId": "f99baeb9-1728-4edf-ca8f-560378d22cf0"
      },
      "execution_count": null,
      "outputs": [
        {
          "output_type": "stream",
          "name": "stdout",
          "text": [
            "time: 550 ms (started: 2024-01-08 07:22:39 +00:00)\n"
          ]
        }
      ]
    },
    {
      "cell_type": "code",
      "source": [
        "for i in range(len(datasets)):\n",
        "  models.append(make_pipeline(StandardScaler(), KNeighborsClassifier(n_neighbors=5)))"
      ],
      "metadata": {
        "colab": {
          "base_uri": "https://localhost:8080/"
        },
        "id": "dzmtK9alBGWW",
        "outputId": "7213fbb3-0403-4b74-fc65-a8e9b0e42b21"
      },
      "execution_count": null,
      "outputs": [
        {
          "output_type": "stream",
          "name": "stdout",
          "text": [
            "time: 2.24 ms (started: 2024-01-08 07:22:40 +00:00)\n"
          ]
        }
      ]
    },
    {
      "cell_type": "code",
      "source": [
        "X_train=[]\n",
        "y_train=[]"
      ],
      "metadata": {
        "id": "PYkvlFJ_hq73",
        "colab": {
          "base_uri": "https://localhost:8080/"
        },
        "outputId": "673d0a05-5773-4c01-bf8f-a5e05c04242f"
      },
      "execution_count": null,
      "outputs": [
        {
          "output_type": "stream",
          "name": "stdout",
          "text": [
            "time: 512 µs (started: 2024-01-08 07:22:40 +00:00)\n"
          ]
        }
      ]
    },
    {
      "cell_type": "code",
      "source": [
        "for i in range(len(datasets)):\n",
        "  X_train.append(datasets[i].drop(['Bug Present'],axis=1).values)\n",
        "  y_train.append(datasets[i]['Bug Present'].values)"
      ],
      "metadata": {
        "colab": {
          "base_uri": "https://localhost:8080/"
        },
        "id": "kJu4PZr3iJVJ",
        "outputId": "ec994dfa-02d1-4e24-aaad-e9255ddf2a49"
      },
      "execution_count": null,
      "outputs": [
        {
          "output_type": "stream",
          "name": "stdout",
          "text": [
            "time: 645 ms (started: 2024-01-08 07:22:40 +00:00)\n"
          ]
        }
      ]
    },
    {
      "cell_type": "code",
      "source": [
        "for i in range(len(datasets)):\n",
        "  models[i].fit(X_train[i],y_train[i])"
      ],
      "metadata": {
        "colab": {
          "base_uri": "https://localhost:8080/"
        },
        "id": "Fsbkhzh7VGrT",
        "outputId": "145859a5-573e-4895-ebbd-8956ed82bd3f"
      },
      "execution_count": null,
      "outputs": [
        {
          "output_type": "stream",
          "name": "stdout",
          "text": [
            "time: 4.7 s (started: 2024-01-08 07:22:41 +00:00)\n"
          ]
        }
      ]
    },
    {
      "cell_type": "markdown",
      "source": [
        "# Performance Metrics"
      ],
      "metadata": {
        "id": "NW8caye_sGaW"
      }
    },
    {
      "cell_type": "code",
      "source": [
        "from sklearn.model_selection import GridSearchCV\n",
        "\n",
        "param_grid = {}\n",
        "models_cv = KNeighborsClassifier(n_neighbors=5)\n",
        "grid_search=[]\n",
        "epochs=len(datasets)\n",
        "for i in range(epochs):\n",
        "    print(f'{i}th model: ')\n",
        "    grid_search_tmp = GridSearchCV(models_cv, param_grid, scoring='accuracy', cv=10)\n",
        "    grid_search_tmp.fit(StandardScaler().fit(X_train[i]).transform(X_train[i]), y_train[i])\n",
        "    grid_search.append(grid_search_tmp)\n",
        "    print(\"Progress=\",(i/epochs)*100)"
      ],
      "metadata": {
        "colab": {
          "base_uri": "https://localhost:8080/"
        },
        "id": "y-61YiiMtD7Y",
        "outputId": "3a1c51d6-9ece-48cb-b41a-f12772139ef1"
      },
      "execution_count": null,
      "outputs": [
        {
          "output_type": "stream",
          "name": "stdout",
          "text": [
            "0th model: \n",
            "Progress= 0.0\n",
            "1th model: \n",
            "Progress= 1.4285714285714286\n",
            "2th model: \n",
            "Progress= 2.857142857142857\n",
            "3th model: \n",
            "Progress= 4.285714285714286\n",
            "4th model: \n",
            "Progress= 5.714285714285714\n",
            "5th model: \n",
            "Progress= 7.142857142857142\n",
            "6th model: \n",
            "Progress= 8.571428571428571\n",
            "7th model: \n",
            "Progress= 10.0\n",
            "8th model: \n",
            "Progress= 11.428571428571429\n",
            "9th model: \n",
            "Progress= 12.857142857142856\n",
            "10th model: \n",
            "Progress= 14.285714285714285\n",
            "11th model: \n",
            "Progress= 15.714285714285714\n",
            "12th model: \n",
            "Progress= 17.142857142857142\n",
            "13th model: \n",
            "Progress= 18.571428571428573\n",
            "14th model: \n",
            "Progress= 20.0\n",
            "15th model: \n",
            "Progress= 21.428571428571427\n",
            "16th model: \n",
            "Progress= 22.857142857142858\n",
            "17th model: \n",
            "Progress= 24.285714285714285\n",
            "18th model: \n",
            "Progress= 25.71428571428571\n",
            "19th model: \n",
            "Progress= 27.142857142857142\n",
            "20th model: \n",
            "Progress= 28.57142857142857\n",
            "21th model: \n",
            "Progress= 30.0\n",
            "22th model: \n",
            "Progress= 31.428571428571427\n",
            "23th model: \n",
            "Progress= 32.857142857142854\n",
            "24th model: \n",
            "Progress= 34.285714285714285\n",
            "25th model: \n",
            "Progress= 35.714285714285715\n",
            "26th model: \n",
            "Progress= 37.142857142857146\n",
            "27th model: \n",
            "Progress= 38.57142857142858\n",
            "28th model: \n",
            "Progress= 40.0\n",
            "29th model: \n",
            "Progress= 41.42857142857143\n",
            "30th model: \n",
            "Progress= 42.857142857142854\n",
            "31th model: \n",
            "Progress= 44.285714285714285\n",
            "32th model: \n",
            "Progress= 45.714285714285715\n",
            "33th model: \n",
            "Progress= 47.14285714285714\n",
            "34th model: \n",
            "Progress= 48.57142857142857\n",
            "35th model: \n",
            "Progress= 50.0\n",
            "36th model: \n",
            "Progress= 51.42857142857142\n",
            "37th model: \n",
            "Progress= 52.85714285714286\n",
            "38th model: \n",
            "Progress= 54.285714285714285\n",
            "39th model: \n",
            "Progress= 55.714285714285715\n",
            "40th model: \n",
            "Progress= 57.14285714285714\n",
            "41th model: \n",
            "Progress= 58.57142857142858\n",
            "42th model: \n",
            "Progress= 60.0\n",
            "43th model: \n",
            "Progress= 61.42857142857143\n",
            "44th model: \n",
            "Progress= 62.857142857142854\n",
            "45th model: \n",
            "Progress= 64.28571428571429\n",
            "46th model: \n",
            "Progress= 65.71428571428571\n",
            "47th model: \n",
            "Progress= 67.14285714285714\n",
            "48th model: \n",
            "Progress= 68.57142857142857\n",
            "49th model: \n",
            "Progress= 70.0\n",
            "50th model: \n",
            "Progress= 71.42857142857143\n",
            "51th model: \n",
            "Progress= 72.85714285714285\n",
            "52th model: \n",
            "Progress= 74.28571428571429\n",
            "53th model: \n",
            "Progress= 75.71428571428571\n",
            "54th model: \n",
            "Progress= 77.14285714285715\n",
            "55th model: \n",
            "Progress= 78.57142857142857\n",
            "56th model: \n",
            "Progress= 80.0\n",
            "57th model: \n",
            "Progress= 81.42857142857143\n",
            "58th model: \n",
            "Progress= 82.85714285714286\n",
            "59th model: \n",
            "Progress= 84.28571428571429\n",
            "60th model: \n",
            "Progress= 85.71428571428571\n",
            "61th model: \n",
            "Progress= 87.14285714285714\n",
            "62th model: \n",
            "Progress= 88.57142857142857\n",
            "63th model: \n",
            "Progress= 90.0\n",
            "64th model: \n",
            "Progress= 91.42857142857143\n",
            "65th model: \n",
            "Progress= 92.85714285714286\n",
            "66th model: \n",
            "Progress= 94.28571428571428\n",
            "67th model: \n",
            "Progress= 95.71428571428572\n",
            "68th model: \n",
            "Progress= 97.14285714285714\n",
            "69th model: \n",
            "Progress= 98.57142857142858\n",
            "time: 42min 57s (started: 2024-01-08 07:22:45 +00:00)\n"
          ]
        }
      ]
    },
    {
      "cell_type": "code",
      "source": [
        "from sklearn.metrics import accuracy_score"
      ],
      "metadata": {
        "colab": {
          "base_uri": "https://localhost:8080/"
        },
        "id": "UlsHYaRLrdXT",
        "outputId": "7186322d-25d8-4691-eea4-95378cf359ae"
      },
      "execution_count": null,
      "outputs": [
        {
          "output_type": "stream",
          "name": "stdout",
          "text": [
            "time: 834 µs (started: 2024-01-08 08:07:09 +00:00)\n"
          ]
        }
      ]
    },
    {
      "cell_type": "code",
      "source": [
        "test_set=pd.read_csv(f'/content/drive/MyDrive/CSE_4554_ML_PROJECT/datasets/test_set.csv')\n",
        "test_set=test_set.drop(['filename','Unnamed: 0'],axis=1)\n",
        "X_test,y_test=test_set.drop(['Bug Present'],axis=1).values,test_set['Bug Present'].values\n",
        "y_test_pred=[]\n",
        "for i in range(len(datasets)):\n",
        "  y_pred=models[i].predict(X_test)\n",
        "  y_test_pred.append(y_pred)\n",
        "\n",
        "\n"
      ],
      "metadata": {
        "colab": {
          "base_uri": "https://localhost:8080/"
        },
        "id": "MmS_guQaNRnI",
        "outputId": "8f9e21c6-5d1a-433d-dac0-80e5209f0aa1"
      },
      "execution_count": null,
      "outputs": [
        {
          "output_type": "stream",
          "name": "stdout",
          "text": [
            "time: 12min 1s (started: 2024-01-08 08:07:11 +00:00)\n"
          ]
        }
      ]
    },
    {
      "cell_type": "code",
      "source": [
        "result = []\n",
        "y_test_pred=np.array(y_test_pred)\n",
        "for column in y_test_pred.T:\n",
        "    most_common = np.bincount(column).argmax()\n",
        "    result.append(most_common)\n",
        "\n",
        "result = np.array(result)"
      ],
      "metadata": {
        "colab": {
          "base_uri": "https://localhost:8080/"
        },
        "id": "7NZFhi0IO1LP",
        "outputId": "88c4413e-8c28-4c90-efd3-4bdfbc33bdf2"
      },
      "execution_count": null,
      "outputs": [
        {
          "output_type": "stream",
          "name": "stdout",
          "text": [
            "time: 125 ms (started: 2024-01-08 08:25:11 +00:00)\n"
          ]
        }
      ]
    },
    {
      "cell_type": "code",
      "source": [
        "result"
      ],
      "metadata": {
        "colab": {
          "base_uri": "https://localhost:8080/"
        },
        "id": "IpMroJ2KPyw8",
        "outputId": "47969080-6e5e-48cc-8d5d-8572241daa6d"
      },
      "execution_count": null,
      "outputs": [
        {
          "output_type": "execute_result",
          "data": {
            "text/plain": [
              "array([1, 1, 0, ..., 1, 1, 1])"
            ]
          },
          "metadata": {},
          "execution_count": 33
        },
        {
          "output_type": "stream",
          "name": "stdout",
          "text": [
            "time: 4.68 ms (started: 2024-01-08 08:25:14 +00:00)\n"
          ]
        }
      ]
    },
    {
      "cell_type": "code",
      "source": [
        "print(\"Accuracy on Test Set: \", accuracy_score(result,y_test)*100)"
      ],
      "metadata": {
        "colab": {
          "base_uri": "https://localhost:8080/"
        },
        "id": "aGZ98Cj4Wm0B",
        "outputId": "b5172fe0-53da-461a-8c1c-e50b298360ea"
      },
      "execution_count": null,
      "outputs": [
        {
          "output_type": "stream",
          "name": "stdout",
          "text": [
            "Accuracy on Test Set:  73.2556902786641\n",
            "time: 9.49 ms (started: 2024-01-08 08:25:16 +00:00)\n"
          ]
        }
      ]
    },
    {
      "cell_type": "code",
      "source": [
        "test_accuracy=[]\n",
        "for i in range(epochs):\n",
        "    test_accuracy.append(grid_search[i].score(StandardScaler().fit(X_test).transform(X_test), y_test))\n",
        "print(\"Accuracy with 10-fold Cross Validation: \",sum(test_accuracy)/epochs*100)"
      ],
      "metadata": {
        "colab": {
          "base_uri": "https://localhost:8080/"
        },
        "id": "OQ0Xu2zqHB1J",
        "outputId": "394483f1-c2bd-4b00-f561-9fa94f9222c7"
      },
      "execution_count": null,
      "outputs": [
        {
          "output_type": "stream",
          "name": "stdout",
          "text": [
            "Accuracy with 10-fold Cross Validation:  71.57603245510069\n",
            "time: 12min 9s (started: 2024-01-08 08:27:47 +00:00)\n"
          ]
        }
      ]
    },
    {
      "cell_type": "code",
      "source": [
        "from sklearn.metrics import roc_curve,auc"
      ],
      "metadata": {
        "colab": {
          "base_uri": "https://localhost:8080/"
        },
        "id": "zEh-qejgrjcf",
        "outputId": "e86b39e6-3add-4e93-ef9e-e87ace6ee3ee"
      },
      "execution_count": null,
      "outputs": [
        {
          "output_type": "stream",
          "name": "stdout",
          "text": [
            "time: 618 µs (started: 2024-01-08 08:39:56 +00:00)\n"
          ]
        }
      ]
    },
    {
      "cell_type": "code",
      "source": [
        "fpr,tpr, _ = roc_curve(y_test, result)\n",
        "roc_auc = auc(fpr,tpr)"
      ],
      "metadata": {
        "colab": {
          "base_uri": "https://localhost:8080/"
        },
        "id": "Q4d7bPyPswkD",
        "outputId": "b60b18e4-645c-4b14-b7d7-fb653aa6a0c2"
      },
      "execution_count": null,
      "outputs": [
        {
          "output_type": "stream",
          "name": "stdout",
          "text": [
            "time: 5.28 ms (started: 2024-01-08 08:39:56 +00:00)\n"
          ]
        }
      ]
    },
    {
      "cell_type": "code",
      "source": [
        "plt.plot(fpr, tpr, label='ROC curve (AUC = {:.2f})'.format(roc_auc))\n",
        "plt.xlabel('False Positive Rate')\n",
        "plt.ylabel('True Positive Rate')\n",
        "plt.title('ROC Curve using KNN')\n",
        "plt.legend(loc=\"lower right\")\n",
        "plt.show()"
      ],
      "metadata": {
        "colab": {
          "base_uri": "https://localhost:8080/",
          "height": 489
        },
        "id": "M553uZv1tIz8",
        "outputId": "00fb566e-375e-4c54-8026-ec76ded3b033"
      },
      "execution_count": null,
      "outputs": [
        {
          "output_type": "display_data",
          "data": {
            "text/plain": [
              "<Figure size 640x480 with 1 Axes>"
            ],
            "image/png": "[encoded data removed]"
          },
          "metadata": {}
        },
        {
          "output_type": "stream",
          "name": "stdout",
          "text": [
            "time: 472 ms (started: 2024-01-08 08:39:56 +00:00)\n"
          ]
        }
      ]
    },
    {
      "cell_type": "code",
      "source": [
        "from sklearn.metrics import confusion_matrix\n",
        "import seaborn as sns"
      ],
      "metadata": {
        "colab": {
          "base_uri": "https://localhost:8080/"
        },
        "id": "UWD-vhVhtKff",
        "outputId": "abc33f3d-57dd-444b-e53a-1118803b6b32"
      },
      "execution_count": null,
      "outputs": [
        {
          "output_type": "stream",
          "name": "stdout",
          "text": [
            "time: 302 ms (started: 2024-01-08 08:39:56 +00:00)\n"
          ]
        }
      ]
    },
    {
      "cell_type": "code",
      "source": [
        "confusion=confusion_matrix(y_test,result)\n",
        "plt.figure(figsize=(8, 6))\n",
        "sns.heatmap(confusion, annot=True, fmt=\"d\", cmap=\"Blues\", cbar=False, xticklabels=['Bug Absent', 'Bug Present'], yticklabels=['Bug Absent', 'Bug Present'])\n",
        "plt.xlabel('Predicted')\n",
        "plt.ylabel('True')\n",
        "plt.title('Confusion Matrix for KNN')\n",
        "\n",
        "plt.show()"
      ],
      "metadata": {
        "colab": {
          "base_uri": "https://localhost:8080/",
          "height": 581
        },
        "id": "5u81KooYtxuM",
        "outputId": "7bf72448-f7cb-43b4-bad2-29949f4a9390"
      },
      "execution_count": null,
      "outputs": [
        {
          "output_type": "display_data",
          "data": {
            "text/plain": [
              "<Figure size 800x600 with 1 Axes>"
            ],
            "image/png": "[encoded data removed]"
          },
          "metadata": {}
        },
        {
          "output_type": "stream",
          "name": "stdout",
          "text": [
            "time: 132 ms (started: 2024-01-08 08:39:57 +00:00)\n"
          ]
        }
      ]
    },
    {
      "cell_type": "code",
      "source": [
        "import joblib\n",
        "joblib.dump(models,'/content/drive/MyDrive/CSE_4554_ML_PROJECT/knn_model.joblib')"
      ],
      "metadata": {
        "colab": {
          "base_uri": "https://localhost:8080/"
        },
        "id": "w2RLFPBJR0tg",
        "outputId": "474e5076-24fd-4844-f995-9e753002a785"
      },
      "execution_count": null,
      "outputs": [
        {
          "output_type": "execute_result",
          "data": {
            "text/plain": [
              "['/content/drive/MyDrive/CSE_4554_ML_PROJECT/knn_model.joblib']"
            ]
          },
          "metadata": {},
          "execution_count": 42
        },
        {
          "output_type": "stream",
          "name": "stdout",
          "text": [
            "time: 31 s (started: 2024-01-08 08:39:57 +00:00)\n"
          ]
        }
      ]
    },
    {
      "cell_type": "code",
      "source": [],
      "metadata": {
        "id": "dC5XdbLs1pLo"
      },
      "execution_count": null,
      "outputs": []
    }
  ]
}