{
  "nbformat": 4,
  "nbformat_minor": 0,
  "metadata": {
    "colab": {
      "provenance": [],
      "gpuType": "T4"
    },
    "kernelspec": {
      "name": "python3",
      "display_name": "Python 3"
    },
    "language_info": {
      "name": "python"
    },
    "accelerator": "GPU"
  },
  "cells": [
    {
      "cell_type": "markdown",
      "source": [
        "# Naive Bayes Classifier"
      ],
      "metadata": {
        "id": "LR522QnThKBY"
      }
    },
    {
      "cell_type": "code",
      "source": [
        "import pandas as pd\n",
        "from sklearn.naive_bayes import GaussianNB\n",
        "from sklearn.preprocessing import StandardScaler\n",
        "from sklearn.pipeline import make_pipeline\n",
        "from sklearn.model_selection import train_test_split\n",
        "import numpy as np\n",
        "import matplotlib.pyplot as plt"
      ],
      "metadata": {
        "id": "XsrVFRv2hMU7"
      },
      "execution_count": null,
      "outputs": []
    },
    {
      "cell_type": "code",
      "source": [
        "!pip install ipython-autotime\n",
        "%load_ext autotime"
      ],
      "metadata": {
        "colab": {
          "base_uri": "https://localhost:8080/"
        },
        "id": "qUMNx1IChoIN",
        "outputId": "f3b785a7-1e0e-459c-e23b-cd16a561e561"
      },
      "execution_count": null,
      "outputs": [
        {
          "output_type": "stream",
          "name": "stdout",
          "text": [
            "Collecting ipython-autotime\n",
            "  Downloading ipython_autotime-0.3.2-py2.py3-none-any.whl (7.0 kB)\n",
            "Requirement already satisfied: ipython in /usr/local/lib/python3.10/dist-packages (from ipython-autotime) (7.34.0)\n",
            "Requirement already satisfied: setuptools>=18.5 in /usr/local/lib/python3.10/dist-packages (from ipython->ipython-autotime) (67.7.2)\n",
            "Collecting jedi>=0.16 (from ipython->ipython-autotime)\n",
            "  Downloading jedi-0.19.1-py2.py3-none-any.whl (1.6 MB)\n",
            "\u001b[2K     \u001b[90m━━━━━━━━━━━━━━━━━━━━━━━━━━━━━━━━━━━━━━━━\u001b[0m \u001b[32m1.6/1.6 MB\u001b[0m \u001b[31m15.9 MB/s\u001b[0m eta \u001b[36m0:00:00\u001b[0m\n",
            "\u001b[?25hRequirement already satisfied: decorator in /usr/local/lib/python3.10/dist-packages (from ipython->ipython-autotime) (4.4.2)\n",
            "Requirement already satisfied: pickleshare in /usr/local/lib/python3.10/dist-packages (from ipython->ipython-autotime) (0.7.5)\n",
            "Requirement already satisfied: traitlets>=4.2 in /usr/local/lib/python3.10/dist-packages (from ipython->ipython-autotime) (5.7.1)\n",
            "Requirement already satisfied: prompt-toolkit!=3.0.0,!=3.0.1,<3.1.0,>=2.0.0 in /usr/local/lib/python3.10/dist-packages (from ipython->ipython-autotime) (3.0.43)\n",
            "Requirement already satisfied: pygments in /usr/local/lib/python3.10/dist-packages (from ipython->ipython-autotime) (2.16.1)\n",
            "Requirement already satisfied: backcall in /usr/local/lib/python3.10/dist-packages (from ipython->ipython-autotime) (0.2.0)\n",
            "Requirement already satisfied: matplotlib-inline in /usr/local/lib/python3.10/dist-packages (from ipython->ipython-autotime) (0.1.6)\n",
            "Requirement already satisfied: pexpect>4.3 in /usr/local/lib/python3.10/dist-packages (from ipython->ipython-autotime) (4.9.0)\n",
            "Requirement already satisfied: parso<0.9.0,>=0.8.3 in /usr/local/lib/python3.10/dist-packages (from jedi>=0.16->ipython->ipython-autotime) (0.8.3)\n",
            "Requirement already satisfied: ptyprocess>=0.5 in /usr/local/lib/python3.10/dist-packages (from pexpect>4.3->ipython->ipython-autotime) (0.7.0)\n",
            "Requirement already satisfied: wcwidth in /usr/local/lib/python3.10/dist-packages (from prompt-toolkit!=3.0.0,!=3.0.1,<3.1.0,>=2.0.0->ipython->ipython-autotime) (0.2.12)\n",
            "Installing collected packages: jedi, ipython-autotime\n",
            "Successfully installed ipython-autotime-0.3.2 jedi-0.19.1\n",
            "time: 367 µs (started: 2024-01-08 09:28:12 +00:00)\n"
          ]
        }
      ]
    },
    {
      "cell_type": "code",
      "source": [
        "from google.colab import drive\n",
        "drive.mount('/content/drive')"
      ],
      "metadata": {
        "colab": {
          "base_uri": "https://localhost:8080/"
        },
        "id": "EkFMkLrboxH_",
        "outputId": "706b1ed7-f474-4a5d-99aa-a7233cb70334"
      },
      "execution_count": null,
      "outputs": [
        {
          "output_type": "stream",
          "name": "stdout",
          "text": [
            "Mounted at /content/drive\n",
            "time: 5min 12s (started: 2024-01-08 09:28:12 +00:00)\n"
          ]
        }
      ]
    },
    {
      "cell_type": "code",
      "source": [
        "datasets=[]\n",
        "models=[]\n",
        "for i in range(0,70):\n",
        "  df=pd.read_csv(f'/content/drive/MyDrive/CSE_4554_ML_PROJECT/datasets/dataset{i}.csv')\n",
        "  datasets.append(df)"
      ],
      "metadata": {
        "id": "yOMjoEtmhyVa",
        "colab": {
          "base_uri": "https://localhost:8080/"
        },
        "outputId": "e4817d35-9689-450c-b37e-635b663de642"
      },
      "execution_count": null,
      "outputs": [
        {
          "output_type": "stream",
          "name": "stdout",
          "text": [
            "time: 1min 25s (started: 2024-01-08 09:33:25 +00:00)\n"
          ]
        }
      ]
    },
    {
      "cell_type": "code",
      "source": [
        "for i in range(len(datasets)):\n",
        "  datasets[i]=datasets[i].drop(['filename','Unnamed: 0'],axis=1)"
      ],
      "metadata": {
        "colab": {
          "base_uri": "https://localhost:8080/"
        },
        "id": "EJwUx_o2AsCI",
        "outputId": "81068e13-d03f-4bb4-c8ae-e291184bdbd7"
      },
      "execution_count": null,
      "outputs": [
        {
          "output_type": "stream",
          "name": "stdout",
          "text": [
            "time: 480 ms (started: 2024-01-08 09:34:51 +00:00)\n"
          ]
        }
      ]
    },
    {
      "cell_type": "code",
      "source": [
        "models=[]\n",
        "for i in range(len(datasets)):\n",
        "  models.append(make_pipeline(StandardScaler(), GaussianNB()))"
      ],
      "metadata": {
        "colab": {
          "base_uri": "https://localhost:8080/"
        },
        "id": "dzmtK9alBGWW",
        "outputId": "f75acc59-ef4b-405b-a5f2-decfd9dd643e"
      },
      "execution_count": null,
      "outputs": [
        {
          "output_type": "stream",
          "name": "stdout",
          "text": [
            "time: 1.65 ms (started: 2024-01-08 09:34:51 +00:00)\n"
          ]
        }
      ]
    },
    {
      "cell_type": "code",
      "source": [
        "X_train=[]\n",
        "y_train=[]"
      ],
      "metadata": {
        "id": "PYkvlFJ_hq73",
        "colab": {
          "base_uri": "https://localhost:8080/"
        },
        "outputId": "2f0bfcea-e8a1-46c7-8e2b-a6617e5af2dc"
      },
      "execution_count": null,
      "outputs": [
        {
          "output_type": "stream",
          "name": "stdout",
          "text": [
            "time: 425 µs (started: 2024-01-08 09:34:51 +00:00)\n"
          ]
        }
      ]
    },
    {
      "cell_type": "code",
      "source": [
        "for i in range(len(datasets)):\n",
        "  X_train.append(datasets[i].drop(['Bug Present'],axis=1).values)\n",
        "  y_train.append(datasets[i]['Bug Present'].values)"
      ],
      "metadata": {
        "colab": {
          "base_uri": "https://localhost:8080/"
        },
        "id": "kJu4PZr3iJVJ",
        "outputId": "4b749939-5245-4592-d254-f3620fb11212"
      },
      "execution_count": null,
      "outputs": [
        {
          "output_type": "stream",
          "name": "stdout",
          "text": [
            "time: 577 ms (started: 2024-01-08 09:35:01 +00:00)\n"
          ]
        }
      ]
    },
    {
      "cell_type": "code",
      "source": [
        "progress=0\n",
        "for i in range(len(datasets)):\n",
        "  models[i].fit(X_train[i],y_train[i])\n",
        "  progress+=1\n",
        "  print(\"Progress: \",progress/len(datasets)*100)"
      ],
      "metadata": {
        "colab": {
          "base_uri": "https://localhost:8080/"
        },
        "id": "Fsbkhzh7VGrT",
        "outputId": "209653e8-26cf-4be3-985c-d855dcfd6706"
      },
      "execution_count": null,
      "outputs": [
        {
          "output_type": "stream",
          "name": "stdout",
          "text": [
            "Progress:  1.4285714285714286\n",
            "Progress:  2.857142857142857\n",
            "Progress:  4.285714285714286\n",
            "Progress:  5.714285714285714\n",
            "Progress:  7.142857142857142\n",
            "Progress:  8.571428571428571\n",
            "Progress:  10.0\n",
            "Progress:  11.428571428571429\n",
            "Progress:  12.857142857142856\n",
            "Progress:  14.285714285714285\n",
            "Progress:  15.714285714285714\n",
            "Progress:  17.142857142857142\n",
            "Progress:  18.571428571428573\n",
            "Progress:  20.0\n",
            "Progress:  21.428571428571427\n",
            "Progress:  22.857142857142858\n",
            "Progress:  24.285714285714285\n",
            "Progress:  25.71428571428571\n",
            "Progress:  27.142857142857142\n",
            "Progress:  28.57142857142857\n",
            "Progress:  30.0\n",
            "Progress:  31.428571428571427\n",
            "Progress:  32.857142857142854\n",
            "Progress:  34.285714285714285\n",
            "Progress:  35.714285714285715\n",
            "Progress:  37.142857142857146\n",
            "Progress:  38.57142857142858\n",
            "Progress:  40.0\n",
            "Progress:  41.42857142857143\n",
            "Progress:  42.857142857142854\n",
            "Progress:  44.285714285714285\n",
            "Progress:  45.714285714285715\n",
            "Progress:  47.14285714285714\n",
            "Progress:  48.57142857142857\n",
            "Progress:  50.0\n",
            "Progress:  51.42857142857142\n",
            "Progress:  52.85714285714286\n",
            "Progress:  54.285714285714285\n",
            "Progress:  55.714285714285715\n",
            "Progress:  57.14285714285714\n",
            "Progress:  58.57142857142858\n",
            "Progress:  60.0\n",
            "Progress:  61.42857142857143\n",
            "Progress:  62.857142857142854\n",
            "Progress:  64.28571428571429\n",
            "Progress:  65.71428571428571\n",
            "Progress:  67.14285714285714\n",
            "Progress:  68.57142857142857\n",
            "Progress:  70.0\n",
            "Progress:  71.42857142857143\n",
            "Progress:  72.85714285714285\n",
            "Progress:  74.28571428571429\n",
            "Progress:  75.71428571428571\n",
            "Progress:  77.14285714285715\n",
            "Progress:  78.57142857142857\n",
            "Progress:  80.0\n",
            "Progress:  81.42857142857143\n",
            "Progress:  82.85714285714286\n",
            "Progress:  84.28571428571429\n",
            "Progress:  85.71428571428571\n",
            "Progress:  87.14285714285714\n",
            "Progress:  88.57142857142857\n",
            "Progress:  90.0\n",
            "Progress:  91.42857142857143\n",
            "Progress:  92.85714285714286\n",
            "Progress:  94.28571428571428\n",
            "Progress:  95.71428571428572\n",
            "Progress:  97.14285714285714\n",
            "Progress:  98.57142857142858\n",
            "Progress:  100.0\n",
            "time: 3.94 s (started: 2024-01-08 09:35:05 +00:00)\n"
          ]
        }
      ]
    },
    {
      "cell_type": "markdown",
      "source": [
        "# Performance Metrics"
      ],
      "metadata": {
        "id": "NW8caye_sGaW"
      }
    },
    {
      "cell_type": "code",
      "source": [
        "from sklearn.model_selection import GridSearchCV, train_test_split\n",
        "\n",
        "param_grid = {}\n",
        "dtree = GaussianNB()\n",
        "grid_search=[]\n",
        "epochs=len(datasets)\n",
        "for i in range(epochs):\n",
        "    print(f'{i}th model: ')\n",
        "    grid_search_tmp = GridSearchCV(dtree, param_grid, scoring='accuracy', cv=10)\n",
        "    stdSclr=StandardScaler()\n",
        "    stdSclr.fit(X_train[i])\n",
        "    grid_search_tmp.fit(stdSclr.transform(X_train[i]), y_train[i])\n",
        "    grid_search.append(grid_search_tmp)\n",
        "    print(\"Progress=\",(i/epochs)*100)\n",
        "\n"
      ],
      "metadata": {
        "colab": {
          "base_uri": "https://localhost:8080/"
        },
        "id": "65jWY-_Fmr0A",
        "outputId": "c16fb372-da9b-4eaa-f2ee-8e1e3c25d4c7"
      },
      "execution_count": null,
      "outputs": [
        {
          "output_type": "stream",
          "name": "stdout",
          "text": [
            "0th model: \n",
            "Progress= 0.0\n",
            "1th model: \n",
            "Progress= 1.4285714285714286\n",
            "2th model: \n",
            "Progress= 2.857142857142857\n",
            "3th model: \n",
            "Progress= 4.285714285714286\n",
            "4th model: \n",
            "Progress= 5.714285714285714\n",
            "5th model: \n",
            "Progress= 7.142857142857142\n",
            "6th model: \n",
            "Progress= 8.571428571428571\n",
            "7th model: \n",
            "Progress= 10.0\n",
            "8th model: \n",
            "Progress= 11.428571428571429\n",
            "9th model: \n",
            "Progress= 12.857142857142856\n",
            "10th model: \n",
            "Progress= 14.285714285714285\n",
            "11th model: \n",
            "Progress= 15.714285714285714\n",
            "12th model: \n",
            "Progress= 17.142857142857142\n",
            "13th model: \n",
            "Progress= 18.571428571428573\n",
            "14th model: \n",
            "Progress= 20.0\n",
            "15th model: \n",
            "Progress= 21.428571428571427\n",
            "16th model: \n",
            "Progress= 22.857142857142858\n",
            "17th model: \n",
            "Progress= 24.285714285714285\n",
            "18th model: \n",
            "Progress= 25.71428571428571\n",
            "19th model: \n",
            "Progress= 27.142857142857142\n",
            "20th model: \n",
            "Progress= 28.57142857142857\n",
            "21th model: \n",
            "Progress= 30.0\n",
            "22th model: \n",
            "Progress= 31.428571428571427\n",
            "23th model: \n",
            "Progress= 32.857142857142854\n",
            "24th model: \n",
            "Progress= 34.285714285714285\n",
            "25th model: \n",
            "Progress= 35.714285714285715\n",
            "26th model: \n",
            "Progress= 37.142857142857146\n",
            "27th model: \n",
            "Progress= 38.57142857142858\n",
            "28th model: \n",
            "Progress= 40.0\n",
            "29th model: \n",
            "Progress= 41.42857142857143\n",
            "30th model: \n",
            "Progress= 42.857142857142854\n",
            "31th model: \n",
            "Progress= 44.285714285714285\n",
            "32th model: \n",
            "Progress= 45.714285714285715\n",
            "33th model: \n",
            "Progress= 47.14285714285714\n",
            "34th model: \n",
            "Progress= 48.57142857142857\n",
            "35th model: \n",
            "Progress= 50.0\n",
            "36th model: \n",
            "Progress= 51.42857142857142\n",
            "37th model: \n",
            "Progress= 52.85714285714286\n",
            "38th model: \n",
            "Progress= 54.285714285714285\n",
            "39th model: \n",
            "Progress= 55.714285714285715\n",
            "40th model: \n",
            "Progress= 57.14285714285714\n",
            "41th model: \n",
            "Progress= 58.57142857142858\n",
            "42th model: \n",
            "Progress= 60.0\n",
            "43th model: \n",
            "Progress= 61.42857142857143\n",
            "44th model: \n",
            "Progress= 62.857142857142854\n",
            "45th model: \n",
            "Progress= 64.28571428571429\n",
            "46th model: \n",
            "Progress= 65.71428571428571\n",
            "47th model: \n",
            "Progress= 67.14285714285714\n",
            "48th model: \n",
            "Progress= 68.57142857142857\n",
            "49th model: \n",
            "Progress= 70.0\n",
            "50th model: \n",
            "Progress= 71.42857142857143\n",
            "51th model: \n",
            "Progress= 72.85714285714285\n",
            "52th model: \n",
            "Progress= 74.28571428571429\n",
            "53th model: \n",
            "Progress= 75.71428571428571\n",
            "54th model: \n",
            "Progress= 77.14285714285715\n",
            "55th model: \n",
            "Progress= 78.57142857142857\n",
            "56th model: \n",
            "Progress= 80.0\n",
            "57th model: \n",
            "Progress= 81.42857142857143\n",
            "58th model: \n",
            "Progress= 82.85714285714286\n",
            "59th model: \n",
            "Progress= 84.28571428571429\n",
            "60th model: \n",
            "Progress= 85.71428571428571\n",
            "61th model: \n",
            "Progress= 87.14285714285714\n",
            "62th model: \n",
            "Progress= 88.57142857142857\n",
            "63th model: \n",
            "Progress= 90.0\n",
            "64th model: \n",
            "Progress= 91.42857142857143\n",
            "65th model: \n",
            "Progress= 92.85714285714286\n",
            "66th model: \n",
            "Progress= 94.28571428571428\n",
            "67th model: \n",
            "Progress= 95.71428571428572\n",
            "68th model: \n",
            "Progress= 97.14285714285714\n",
            "69th model: \n",
            "Progress= 98.57142857142858\n",
            "time: 29.7 s (started: 2024-01-08 09:35:11 +00:00)\n"
          ]
        }
      ]
    },
    {
      "cell_type": "code",
      "source": [
        "from sklearn.metrics import accuracy_score"
      ],
      "metadata": {
        "colab": {
          "base_uri": "https://localhost:8080/"
        },
        "id": "UlsHYaRLrdXT",
        "outputId": "60e83384-ad5c-4be4-9b17-bb381c36db1d"
      },
      "execution_count": null,
      "outputs": [
        {
          "output_type": "stream",
          "name": "stdout",
          "text": [
            "time: 459 µs (started: 2024-01-08 09:35:41 +00:00)\n"
          ]
        }
      ]
    },
    {
      "cell_type": "code",
      "source": [
        "test_set=pd.read_csv(f'/content/drive/MyDrive/CSE_4554_ML_PROJECT/datasets/test_set.csv')\n",
        "test_set=test_set.drop(['filename','Unnamed: 0'],axis=1)\n",
        "X_test,y_test=test_set.drop(['Bug Present'],axis=1).values,test_set['Bug Present'].values\n",
        "y_test_pred=[]\n",
        "for i in range(len(datasets)):\n",
        "  y_pred=models[i].predict(X_test)\n",
        "  y_test_pred.append(y_pred)\n",
        "\n",
        "\n"
      ],
      "metadata": {
        "id": "MmS_guQaNRnI",
        "colab": {
          "base_uri": "https://localhost:8080/"
        },
        "outputId": "d22d5490-03e5-4af0-ab8a-b9cfbf868562"
      },
      "execution_count": null,
      "outputs": [
        {
          "output_type": "stream",
          "name": "stdout",
          "text": [
            "time: 902 ms (started: 2024-01-08 09:35:41 +00:00)\n"
          ]
        }
      ]
    },
    {
      "cell_type": "code",
      "source": [
        "result = []\n",
        "y_test_pred=np.array(y_test_pred)\n",
        "for column in y_test_pred.T:\n",
        "    most_common = np.bincount(column).argmax()\n",
        "    result.append(most_common)\n",
        "\n",
        "result = np.array(result)"
      ],
      "metadata": {
        "id": "7NZFhi0IO1LP",
        "colab": {
          "base_uri": "https://localhost:8080/"
        },
        "outputId": "1f017429-c43f-4fda-8815-2044633071e0"
      },
      "execution_count": null,
      "outputs": [
        {
          "output_type": "stream",
          "name": "stdout",
          "text": [
            "time: 44.6 ms (started: 2024-01-08 09:35:42 +00:00)\n"
          ]
        }
      ]
    },
    {
      "cell_type": "code",
      "source": [
        "result"
      ],
      "metadata": {
        "id": "IpMroJ2KPyw8",
        "colab": {
          "base_uri": "https://localhost:8080/"
        },
        "outputId": "d01f6714-fb72-4f4b-fbce-5b42ada67c9e"
      },
      "execution_count": null,
      "outputs": [
        {
          "output_type": "execute_result",
          "data": {
            "text/plain": [
              "array([0, 0, 0, ..., 0, 0, 1])"
            ]
          },
          "metadata": {},
          "execution_count": 15
        },
        {
          "output_type": "stream",
          "name": "stdout",
          "text": [
            "time: 3.25 ms (started: 2024-01-08 09:35:42 +00:00)\n"
          ]
        }
      ]
    },
    {
      "cell_type": "code",
      "source": [
        "print(\"Accuracy on Test Set: \", accuracy_score(result,y_test)*100)"
      ],
      "metadata": {
        "id": "aGZ98Cj4Wm0B",
        "colab": {
          "base_uri": "https://localhost:8080/"
        },
        "outputId": "6eb7ecab-d522-416b-8258-53f89a7f86a6"
      },
      "execution_count": null,
      "outputs": [
        {
          "output_type": "stream",
          "name": "stdout",
          "text": [
            "Accuracy on Test Set:  61.49223569453308\n",
            "time: 5.75 ms (started: 2024-01-08 09:35:42 +00:00)\n"
          ]
        }
      ]
    },
    {
      "cell_type": "code",
      "source": [
        "test_accuracy=[]\n",
        "for i in range(epochs):\n",
        "    test_accuracy.append(grid_search[i].score(StandardScaler().fit(X_test).transform(X_test), y_test))\n",
        "print(\"Accuracy with 10-fold Cross Validation: \",sum(test_accuracy)/epochs*100)"
      ],
      "metadata": {
        "colab": {
          "base_uri": "https://localhost:8080/"
        },
        "id": "-c3QMJ-eajYO",
        "outputId": "a8831385-353e-4216-e5eb-aa4faa723be0"
      },
      "execution_count": null,
      "outputs": [
        {
          "output_type": "stream",
          "name": "stdout",
          "text": [
            "Accuracy with 10-fold Cross Validation:  61.50104840915306\n",
            "time: 569 ms (started: 2024-01-08 09:35:42 +00:00)\n"
          ]
        }
      ]
    },
    {
      "cell_type": "code",
      "source": [
        "from sklearn.metrics import roc_curve,auc"
      ],
      "metadata": {
        "id": "zEh-qejgrjcf",
        "colab": {
          "base_uri": "https://localhost:8080/"
        },
        "outputId": "a94cbaa4-9ac0-40b3-e8c0-d5f64619830c"
      },
      "execution_count": null,
      "outputs": [
        {
          "output_type": "stream",
          "name": "stdout",
          "text": [
            "time: 347 µs (started: 2024-01-08 09:35:43 +00:00)\n"
          ]
        }
      ]
    },
    {
      "cell_type": "code",
      "source": [
        "fpr,tpr, _ = roc_curve(y_test, result)\n",
        "roc_auc = auc(fpr,tpr)"
      ],
      "metadata": {
        "id": "Q4d7bPyPswkD",
        "colab": {
          "base_uri": "https://localhost:8080/"
        },
        "outputId": "479cc99a-8f58-41ab-b3b9-2ad2c63877fa"
      },
      "execution_count": null,
      "outputs": [
        {
          "output_type": "stream",
          "name": "stdout",
          "text": [
            "time: 3.52 ms (started: 2024-01-08 09:35:43 +00:00)\n"
          ]
        }
      ]
    },
    {
      "cell_type": "code",
      "source": [
        "plt.plot(fpr, tpr, label='ROC curve (AUC = {:.2f})'.format(roc_auc))\n",
        "plt.xlabel('False Positive Rate')\n",
        "plt.ylabel('True Positive Rate')\n",
        "plt.title('ROC Curve using NB')\n",
        "plt.legend(loc=\"lower right\")\n",
        "plt.show()"
      ],
      "metadata": {
        "id": "M553uZv1tIz8",
        "colab": {
          "base_uri": "https://localhost:8080/",
          "height": 489
        },
        "outputId": "6377d9a3-6245-4cbb-cc33-901557be06a8"
      },
      "execution_count": null,
      "outputs": [
        {
          "output_type": "display_data",
          "data": {
            "text/plain": [
              "<Figure size 640x480 with 1 Axes>"
            ],
            "image/png": "[encoded data removed]"
          },
          "metadata": {}
        },
        {
          "output_type": "stream",
          "name": "stdout",
          "text": [
            "time: 234 ms (started: 2024-01-08 09:35:43 +00:00)\n"
          ]
        }
      ]
    },
    {
      "cell_type": "code",
      "source": [
        "from sklearn.metrics import confusion_matrix\n",
        "import seaborn as sns"
      ],
      "metadata": {
        "id": "UWD-vhVhtKff",
        "colab": {
          "base_uri": "https://localhost:8080/"
        },
        "outputId": "11382abf-6c37-40c2-b4e2-72b71a6f84e2"
      },
      "execution_count": null,
      "outputs": [
        {
          "output_type": "stream",
          "name": "stdout",
          "text": [
            "time: 177 ms (started: 2024-01-08 09:35:43 +00:00)\n"
          ]
        }
      ]
    },
    {
      "cell_type": "code",
      "source": [
        "confusion=confusion_matrix(y_test,result)\n",
        "plt.figure(figsize=(8, 6))\n",
        "sns.heatmap(confusion, annot=True, fmt=\"d\", cmap=\"Blues\", cbar=False, xticklabels=['Bug Absent', 'Bug Present'], yticklabels=['Bug Absent', 'Bug Present'])\n",
        "plt.xlabel('Predicted')\n",
        "plt.ylabel('True')\n",
        "plt.title('Confusion Matrix for Naive Bayes')\n",
        "\n",
        "plt.show()"
      ],
      "metadata": {
        "id": "5u81KooYtxuM",
        "colab": {
          "base_uri": "https://localhost:8080/",
          "height": 581
        },
        "outputId": "a11c80d6-9866-463a-bc0f-ec6d95530e74"
      },
      "execution_count": null,
      "outputs": [
        {
          "output_type": "display_data",
          "data": {
            "text/plain": [
              "<Figure size 800x600 with 1 Axes>"
            ],
            "image/png": "[encoded data removed]"
          },
          "metadata": {}
        },
        {
          "output_type": "stream",
          "name": "stdout",
          "text": [
            "time: 123 ms (started: 2024-01-08 09:35:43 +00:00)\n"
          ]
        }
      ]
    },
    {
      "cell_type": "code",
      "source": [
        "import joblib\n",
        "joblib.dump(models,'/content/drive/MyDrive/CSE_4554_ML_PROJECT/naive_bayes.joblib')"
      ],
      "metadata": {
        "colab": {
          "base_uri": "https://localhost:8080/"
        },
        "id": "XApl4dDfjDFi",
        "outputId": "ebff8142-5453-437c-f302-717ef02836b1"
      },
      "execution_count": null,
      "outputs": [
        {
          "output_type": "execute_result",
          "data": {
            "text/plain": [
              "['/content/drive/MyDrive/CSE_4554_ML_PROJECT/naive_bayes.joblib']"
            ]
          },
          "metadata": {},
          "execution_count": 23
        },
        {
          "output_type": "stream",
          "name": "stdout",
          "text": [
            "time: 93.3 ms (started: 2024-01-08 09:35:43 +00:00)\n"
          ]
        }
      ]
    },
    {
      "cell_type": "code",
      "source": [],
      "metadata": {
        "id": "IzFwDiZojMQF",
        "colab": {
          "base_uri": "https://localhost:8080/"
        },
        "outputId": "09a02a37-76e3-4674-8fd9-c01ea6334cc7"
      },
      "execution_count": null,
      "outputs": [
        {
          "output_type": "stream",
          "name": "stdout",
          "text": [
            "time: 100 ms (started: 2023-12-31 03:04:18 +00:00)\n"
          ]
        }
      ]
    }
  ]
}