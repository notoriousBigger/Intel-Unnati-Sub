{
  "nbformat": 4,
  "nbformat_minor": 0,
  "metadata": {
    "colab": {
      "provenance": [],
      "gpuType": "T4"
    },
    "kernelspec": {
      "name": "python3",
      "display_name": "Python 3"
    },
    "language_info": {
      "name": "python"
    },
    "accelerator": "GPU"
  },
  "cells": [
    {
      "cell_type": "markdown",
      "source": [
        "# Naive Bayes Classifier"
      ],
      "metadata": {
        "id": "LR522QnThKBY"
      }
    },
    {
      "cell_type": "code",
      "source": [
        "import pandas as pd\n",
        "from sklearn.naive_bayes import GaussianNB\n",
        "from sklearn.preprocessing import StandardScaler\n",
        "from sklearn.pipeline import make_pipeline\n",
        "from sklearn.model_selection import train_test_split\n",
        "import numpy as np\n",
        "import matplotlib.pyplot as plt"
      ],
      "metadata": {
        "id": "XsrVFRv2hMU7"
      },
      "execution_count": null,
      "outputs": []
    },
    {
      "cell_type": "code",
      "source": [
        "!pip install ipython-autotime\n",
        "%load_ext autotime"
      ],
      "metadata": {
        "colab": {
          "base_uri": "https://localhost:8080/"
        },
        "id": "qUMNx1IChoIN",
        "outputId": "c9a977bf-ada7-4b65-c170-38330f98af77"
      },
      "execution_count": null,
      "outputs": [
        {
          "output_type": "stream",
          "name": "stdout",
          "text": [
            "Collecting ipython-autotime\n",
            "  Downloading ipython_autotime-0.3.2-py2.py3-none-any.whl (7.0 kB)\n",
            "Requirement already satisfied: ipython in /usr/local/lib/python3.10/dist-packages (from ipython-autotime) (7.34.0)\n",
            "Requirement already satisfied: setuptools>=18.5 in /usr/local/lib/python3.10/dist-packages (from ipython->ipython-autotime) (67.7.2)\n",
            "Collecting jedi>=0.16 (from ipython->ipython-autotime)\n",
            "  Downloading jedi-0.19.1-py2.py3-none-any.whl (1.6 MB)\n",
            "\u001b[2K     \u001b[90m━━━━━━━━━━━━━━━━━━━━━━━━━━━━━━━━━━━━━━━━\u001b[0m \u001b[32m1.6/1.6 MB\u001b[0m \u001b[31m7.5 MB/s\u001b[0m eta \u001b[36m0:00:00\u001b[0m\n",
            "\u001b[?25hRequirement already satisfied: decorator in /usr/local/lib/python3.10/dist-packages (from ipython->ipython-autotime) (4.4.2)\n",
            "Requirement already satisfied: pickleshare in /usr/local/lib/python3.10/dist-packages (from ipython->ipython-autotime) (0.7.5)\n",
            "Requirement already satisfied: traitlets>=4.2 in /usr/local/lib/python3.10/dist-packages (from ipython->ipython-autotime) (5.7.1)\n",
            "Requirement already satisfied: prompt-toolkit!=3.0.0,!=3.0.1,<3.1.0,>=2.0.0 in /usr/local/lib/python3.10/dist-packages (from ipython->ipython-autotime) (3.0.43)\n",
            "Requirement already satisfied: pygments in /usr/local/lib/python3.10/dist-packages (from ipython->ipython-autotime) (2.16.1)\n",
            "Requirement already satisfied: backcall in /usr/local/lib/python3.10/dist-packages (from ipython->ipython-autotime) (0.2.0)\n",
            "Requirement already satisfied: matplotlib-inline in /usr/local/lib/python3.10/dist-packages (from ipython->ipython-autotime) (0.1.6)\n",
            "Requirement already satisfied: pexpect>4.3 in /usr/local/lib/python3.10/dist-packages (from ipython->ipython-autotime) (4.9.0)\n",
            "Requirement already satisfied: parso<0.9.0,>=0.8.3 in /usr/local/lib/python3.10/dist-packages (from jedi>=0.16->ipython->ipython-autotime) (0.8.3)\n",
            "Requirement already satisfied: ptyprocess>=0.5 in /usr/local/lib/python3.10/dist-packages (from pexpect>4.3->ipython->ipython-autotime) (0.7.0)\n",
            "Requirement already satisfied: wcwidth in /usr/local/lib/python3.10/dist-packages (from prompt-toolkit!=3.0.0,!=3.0.1,<3.1.0,>=2.0.0->ipython->ipython-autotime) (0.2.12)\n",
            "Installing collected packages: jedi, ipython-autotime\n",
            "Successfully installed ipython-autotime-0.3.2 jedi-0.19.1\n",
            "time: 340 µs (started: 2023-12-30 14:51:39 +00:00)\n"
          ]
        }
      ]
    },
    {
      "cell_type": "code",
      "source": [
        "from google.colab import drive\n",
        "drive.mount('/content/drive')"
      ],
      "metadata": {
        "colab": {
          "base_uri": "https://localhost:8080/"
        },
        "id": "EkFMkLrboxH_",
        "outputId": "a53e3d1d-2588-4208-c473-490ea9cea49b"
      },
      "execution_count": null,
      "outputs": [
        {
          "output_type": "stream",
          "name": "stdout",
          "text": [
            "Mounted at /content/drive\n",
            "time: 42.4 s (started: 2023-12-30 14:51:39 +00:00)\n"
          ]
        }
      ]
    },
    {
      "cell_type": "code",
      "source": [
        "datasets=[]\n",
        "for i in range(0,56):\n",
        "  df=pd.read_csv(f'/content/drive/MyDrive/CSE_4554_MachineLearning/datasets/dataset{i}.csv')\n",
        "  datasets.append(df)"
      ],
      "metadata": {
        "id": "yOMjoEtmhyVa",
        "colab": {
          "base_uri": "https://localhost:8080/"
        },
        "outputId": "345ad755-502b-4226-b675-bc59428f1687"
      },
      "execution_count": null,
      "outputs": [
        {
          "output_type": "stream",
          "name": "stdout",
          "text": [
            "time: 55.1 s (started: 2023-12-30 14:52:22 +00:00)\n"
          ]
        }
      ]
    },
    {
      "cell_type": "code",
      "source": [
        "for i in range(len(datasets)):\n",
        "  datasets[i]=datasets[i].drop(['filename','Unnamed: 0'],axis=1)"
      ],
      "metadata": {
        "colab": {
          "base_uri": "https://localhost:8080/"
        },
        "id": "EJwUx_o2AsCI",
        "outputId": "32bf94b5-6bd0-457f-9e28-1ec0601a8088"
      },
      "execution_count": null,
      "outputs": [
        {
          "output_type": "stream",
          "name": "stdout",
          "text": [
            "time: 358 ms (started: 2023-12-30 14:53:17 +00:00)\n"
          ]
        }
      ]
    },
    {
      "cell_type": "code",
      "source": [
        "models=[]\n",
        "for i in range(len(datasets)):\n",
        "  models.append(make_pipeline(StandardScaler(), GaussianNB()))"
      ],
      "metadata": {
        "colab": {
          "base_uri": "https://localhost:8080/"
        },
        "id": "dzmtK9alBGWW",
        "outputId": "2dbf92eb-29fb-422a-f64c-415ee36131ab"
      },
      "execution_count": null,
      "outputs": [
        {
          "output_type": "stream",
          "name": "stdout",
          "text": [
            "time: 1.5 ms (started: 2023-12-30 14:53:17 +00:00)\n"
          ]
        }
      ]
    },
    {
      "cell_type": "code",
      "source": [
        "X_train=[]\n",
        "y_train=[]\n",
        "X_val=[]\n",
        "y_val=[]"
      ],
      "metadata": {
        "id": "PYkvlFJ_hq73",
        "colab": {
          "base_uri": "https://localhost:8080/"
        },
        "outputId": "da40e063-89c8-42a0-a928-ecdf3d1528e5"
      },
      "execution_count": null,
      "outputs": [
        {
          "output_type": "stream",
          "name": "stdout",
          "text": [
            "time: 561 µs (started: 2023-12-30 14:53:17 +00:00)\n"
          ]
        }
      ]
    },
    {
      "cell_type": "code",
      "source": [
        "for i in range(len(datasets)):\n",
        "  X=datasets[i].drop(['Bug Present'],axis=1).values\n",
        "  y=datasets[i]['Bug Present'].values\n",
        "  x_tr1,x_te1,y_tr1,y_te1=train_test_split(X,y,test_size=0.2,random_state=42)\n",
        "  X_train.append(x_tr1)\n",
        "  y_train.append(y_tr1)\n",
        "  X_val.append(x_te1)\n",
        "  y_val.append(y_te1)"
      ],
      "metadata": {
        "colab": {
          "base_uri": "https://localhost:8080/"
        },
        "id": "kJu4PZr3iJVJ",
        "outputId": "f45d9ad6-6ab6-4ae5-d88d-681b4cfa079a"
      },
      "execution_count": null,
      "outputs": [
        {
          "output_type": "stream",
          "name": "stdout",
          "text": [
            "time: 1.46 s (started: 2023-12-30 14:53:17 +00:00)\n"
          ]
        }
      ]
    },
    {
      "cell_type": "code",
      "source": [
        "for i in range(len(datasets)):\n",
        "  models[i].fit(X_train[i],y_train[i])"
      ],
      "metadata": {
        "colab": {
          "base_uri": "https://localhost:8080/"
        },
        "id": "Fsbkhzh7VGrT",
        "outputId": "40214ed6-499a-4285-8f88-1c9be2df8ad9"
      },
      "execution_count": null,
      "outputs": [
        {
          "output_type": "stream",
          "name": "stdout",
          "text": [
            "time: 4.09 s (started: 2023-12-30 14:53:19 +00:00)\n"
          ]
        }
      ]
    },
    {
      "cell_type": "markdown",
      "source": [
        "# Performance Metrics"
      ],
      "metadata": {
        "id": "NW8caye_sGaW"
      }
    },
    {
      "cell_type": "code",
      "source": [
        "y_Pred=[]\n",
        "for i in range(len(datasets)):\n",
        "  y_Pred.append(models[i].predict(X_val[i]))"
      ],
      "metadata": {
        "colab": {
          "base_uri": "https://localhost:8080/"
        },
        "id": "8SNpj_NcFfX6",
        "outputId": "447e3143-dec5-429c-fc2d-8c3d2fae23d6"
      },
      "execution_count": null,
      "outputs": [
        {
          "output_type": "stream",
          "name": "stdout",
          "text": [
            "time: 492 ms (started: 2023-12-30 14:53:23 +00:00)\n"
          ]
        }
      ]
    },
    {
      "cell_type": "code",
      "source": [
        "from sklearn.metrics import accuracy_score"
      ],
      "metadata": {
        "colab": {
          "base_uri": "https://localhost:8080/"
        },
        "id": "UlsHYaRLrdXT",
        "outputId": "5820fc4b-85f6-4683-8ce0-d7193b04e391"
      },
      "execution_count": null,
      "outputs": [
        {
          "output_type": "stream",
          "name": "stdout",
          "text": [
            "time: 447 µs (started: 2023-12-30 14:53:23 +00:00)\n"
          ]
        }
      ]
    },
    {
      "cell_type": "code",
      "source": [
        "accuracy=[]\n",
        "for i in range(len(datasets)):\n",
        "  accuracy.append(accuracy_score(y_Pred[i],y_val[i]))\n",
        "print(\"Accuracy on Validation Set: \",sum(accuracy)/len(datasets)*100,\"%\")"
      ],
      "metadata": {
        "colab": {
          "base_uri": "https://localhost:8080/"
        },
        "id": "LbsnzMz2reiG",
        "outputId": "21b97984-ba8c-4d24-a347-a06acf4685de"
      },
      "execution_count": null,
      "outputs": [
        {
          "output_type": "stream",
          "name": "stdout",
          "text": [
            "Accuracy on Validation Set:  60.8344031540086 %\n",
            "time: 145 ms (started: 2023-12-30 14:53:23 +00:00)\n"
          ]
        }
      ]
    },
    {
      "cell_type": "code",
      "source": [
        "test_set=pd.read_csv(f'/content/drive/MyDrive/CSE_4554_MachineLearning/datasets/dataset{i}.csv')\n",
        "test_set=test_set.drop(['filename','Unnamed: 0'],axis=1)\n",
        "X_test,y_test=test_set.drop(['Bug Present'],axis=1).values,test_set['Bug Present'].values\n",
        "y_test_pred=[]\n",
        "for i in range(len(datasets)):\n",
        "  y_pred=models[i].predict(X_test)\n",
        "  y_test_pred.append(y_pred)\n",
        "\n",
        "\n"
      ],
      "metadata": {
        "id": "MmS_guQaNRnI",
        "colab": {
          "base_uri": "https://localhost:8080/"
        },
        "outputId": "f7768ad2-a11c-40f1-9976-5eae0e84ab61"
      },
      "execution_count": null,
      "outputs": [
        {
          "output_type": "stream",
          "name": "stdout",
          "text": [
            "time: 2.64 s (started: 2023-12-30 14:53:23 +00:00)\n"
          ]
        }
      ]
    },
    {
      "cell_type": "code",
      "source": [
        "result = []\n",
        "y_test_pred=np.array(y_test_pred)\n",
        "for column in y_test_pred.T:\n",
        "    most_common = np.bincount(column).argmax()\n",
        "    result.append(most_common)\n",
        "\n",
        "result = np.array(result)"
      ],
      "metadata": {
        "id": "7NZFhi0IO1LP",
        "colab": {
          "base_uri": "https://localhost:8080/"
        },
        "outputId": "529f3303-a1b6-441a-f675-0e6dfc0d225e"
      },
      "execution_count": null,
      "outputs": [
        {
          "output_type": "stream",
          "name": "stdout",
          "text": [
            "time: 203 ms (started: 2023-12-30 14:53:26 +00:00)\n"
          ]
        }
      ]
    },
    {
      "cell_type": "code",
      "source": [
        "result"
      ],
      "metadata": {
        "id": "IpMroJ2KPyw8",
        "colab": {
          "base_uri": "https://localhost:8080/"
        },
        "outputId": "7c111a53-0e33-4315-d6dc-3e2109238fee"
      },
      "execution_count": null,
      "outputs": [
        {
          "output_type": "execute_result",
          "data": {
            "text/plain": [
              "array([0, 0, 0, ..., 0, 0, 1])"
            ]
          },
          "metadata": {},
          "execution_count": 16
        },
        {
          "output_type": "stream",
          "name": "stdout",
          "text": [
            "time: 3.32 ms (started: 2023-12-30 14:53:26 +00:00)\n"
          ]
        }
      ]
    },
    {
      "cell_type": "code",
      "source": [
        "print(\"Accuracy on Test Set: \", accuracy_score(result,y_test)*100)"
      ],
      "metadata": {
        "id": "aGZ98Cj4Wm0B",
        "colab": {
          "base_uri": "https://localhost:8080/"
        },
        "outputId": "3c92abf6-444d-4dad-b589-38b9d905c4d9"
      },
      "execution_count": null,
      "outputs": [
        {
          "output_type": "stream",
          "name": "stdout",
          "text": [
            "Accuracy on Test Set:  61.190521770574094\n",
            "time: 10.9 ms (started: 2023-12-30 14:53:26 +00:00)\n"
          ]
        }
      ]
    },
    {
      "cell_type": "code",
      "source": [
        "from sklearn.metrics import roc_curve,auc"
      ],
      "metadata": {
        "id": "zEh-qejgrjcf",
        "colab": {
          "base_uri": "https://localhost:8080/"
        },
        "outputId": "1db3e699-7cde-4e0c-d0ce-d01cf01b4c81"
      },
      "execution_count": null,
      "outputs": [
        {
          "output_type": "stream",
          "name": "stdout",
          "text": [
            "time: 359 µs (started: 2023-12-30 14:53:26 +00:00)\n"
          ]
        }
      ]
    },
    {
      "cell_type": "code",
      "source": [
        "fpr,tpr, _ = roc_curve(y_test, result)\n",
        "roc_auc = auc(fpr,tpr)"
      ],
      "metadata": {
        "id": "Q4d7bPyPswkD",
        "colab": {
          "base_uri": "https://localhost:8080/"
        },
        "outputId": "128d7a8a-1898-46ed-e67a-bba6239f7b44"
      },
      "execution_count": null,
      "outputs": [
        {
          "output_type": "stream",
          "name": "stdout",
          "text": [
            "time: 9.35 ms (started: 2023-12-30 14:53:26 +00:00)\n"
          ]
        }
      ]
    },
    {
      "cell_type": "code",
      "source": [
        "plt.plot(fpr, tpr, label='ROC curve (AUC = {:.2f})'.format(roc_auc))\n",
        "plt.xlabel('False Positive Rate')\n",
        "plt.ylabel('True Positive Rate')\n",
        "plt.title('ROC Curve using NB')\n",
        "plt.legend(loc=\"lower right\")\n",
        "plt.show()"
      ],
      "metadata": {
        "id": "M553uZv1tIz8",
        "colab": {
          "base_uri": "https://localhost:8080/",
          "height": 489
        },
        "outputId": "5e2a63df-39a2-41fb-a1ab-be4301288acd"
      },
      "execution_count": null,
      "outputs": [
        {
          "output_type": "display_data",
          "data": {
            "text/plain": [
              "<Figure size 640x480 with 1 Axes>"
            ],
            "image/png": "[encoded data removed]"
          },
          "metadata": {}
        },
        {
          "output_type": "stream",
          "name": "stdout",
          "text": [
            "time: 220 ms (started: 2023-12-30 14:53:26 +00:00)\n"
          ]
        }
      ]
    },
    {
      "cell_type": "code",
      "source": [
        "from sklearn.metrics import confusion_matrix\n",
        "import seaborn as sns"
      ],
      "metadata": {
        "id": "UWD-vhVhtKff",
        "colab": {
          "base_uri": "https://localhost:8080/"
        },
        "outputId": "4bb189f6-00ba-481a-8f8c-a3fcf9a9cfed"
      },
      "execution_count": null,
      "outputs": [
        {
          "output_type": "stream",
          "name": "stdout",
          "text": [
            "time: 175 ms (started: 2023-12-30 14:53:27 +00:00)\n"
          ]
        }
      ]
    },
    {
      "cell_type": "code",
      "source": [
        "confusion=confusion_matrix(y_test,result)\n",
        "plt.figure(figsize=(8, 6))\n",
        "sns.heatmap(confusion, annot=True, fmt=\"d\", cmap=\"Blues\", cbar=False, xticklabels=['Bug Absent', 'Bug Present'], yticklabels=['Bug Absent', 'Bug Present'])\n",
        "plt.xlabel('Predicted')\n",
        "plt.ylabel('True')\n",
        "plt.title('Confusion Matrix for Naive Bayes')\n",
        "\n",
        "plt.show()"
      ],
      "metadata": {
        "id": "5u81KooYtxuM",
        "colab": {
          "base_uri": "https://localhost:8080/",
          "height": 581
        },
        "outputId": "ee13af19-c956-4aaa-e941-21220b948bfb"
      },
      "execution_count": null,
      "outputs": [
        {
          "output_type": "display_data",
          "data": {
            "text/plain": [
              "<Figure size 800x600 with 1 Axes>"
            ],
            "image/png": "[encoded data removed]"
          },
          "metadata": {}
        },
        {
          "output_type": "stream",
          "name": "stdout",
          "text": [
            "time: 130 ms (started: 2023-12-30 14:53:27 +00:00)\n"
          ]
        }
      ]
    },
    {
      "cell_type": "code",
      "source": [
        "from sklearn.model_selection import GridSearchCV, train_test_split\n",
        "\n",
        "param_grid = {}\n",
        "dtree = GaussianNB()\n",
        "grid_search=[]\n",
        "epochs=len(datasets)\n",
        "for i in range(epochs):\n",
        "    print(f'{i}th model: ')\n",
        "    grid_search_tmp = GridSearchCV(dtree, param_grid, scoring='accuracy', cv=10)\n",
        "    stdSclr=StandardScaler()\n",
        "    stdSclr.fit(X_train[i])\n",
        "    grid_search_tmp.fit(stdSclr.transform(X_train[i]), y_train[i])\n",
        "    grid_search.append(grid_search_tmp)\n",
        "    print(\"Progress=\",(i/epochs)*100)\n",
        "\n"
      ],
      "metadata": {
        "colab": {
          "base_uri": "https://localhost:8080/"
        },
        "id": "65jWY-_Fmr0A",
        "outputId": "e013f176-0329-4fd3-a623-b13a38f215da"
      },
      "execution_count": null,
      "outputs": [
        {
          "output_type": "stream",
          "name": "stdout",
          "text": [
            "0th model: \n",
            "Progress= 0.0\n",
            "1th model: \n",
            "Progress= 1.7857142857142856\n",
            "2th model: \n",
            "Progress= 3.571428571428571\n",
            "3th model: \n",
            "Progress= 5.357142857142857\n",
            "4th model: \n",
            "Progress= 7.142857142857142\n",
            "5th model: \n",
            "Progress= 8.928571428571429\n",
            "6th model: \n",
            "Progress= 10.714285714285714\n",
            "7th model: \n",
            "Progress= 12.5\n",
            "8th model: \n",
            "Progress= 14.285714285714285\n",
            "9th model: \n",
            "Progress= 16.071428571428573\n",
            "10th model: \n",
            "Progress= 17.857142857142858\n",
            "11th model: \n",
            "Progress= 19.642857142857142\n",
            "12th model: \n",
            "Progress= 21.428571428571427\n",
            "13th model: \n",
            "Progress= 23.214285714285715\n",
            "14th model: \n",
            "Progress= 25.0\n",
            "15th model: \n",
            "Progress= 26.785714285714285\n",
            "16th model: \n",
            "Progress= 28.57142857142857\n",
            "17th model: \n",
            "Progress= 30.357142857142854\n",
            "18th model: \n",
            "Progress= 32.142857142857146\n",
            "19th model: \n",
            "Progress= 33.92857142857143\n",
            "20th model: \n",
            "Progress= 35.714285714285715\n",
            "21th model: \n",
            "Progress= 37.5\n",
            "22th model: \n",
            "Progress= 39.285714285714285\n",
            "23th model: \n",
            "Progress= 41.07142857142857\n",
            "24th model: \n",
            "Progress= 42.857142857142854\n",
            "25th model: \n",
            "Progress= 44.642857142857146\n",
            "26th model: \n",
            "Progress= 46.42857142857143\n",
            "27th model: \n",
            "Progress= 48.214285714285715\n",
            "28th model: \n",
            "Progress= 50.0\n",
            "29th model: \n",
            "Progress= 51.78571428571429\n",
            "30th model: \n",
            "Progress= 53.57142857142857\n",
            "31th model: \n",
            "Progress= 55.35714285714286\n",
            "32th model: \n",
            "Progress= 57.14285714285714\n",
            "33th model: \n",
            "Progress= 58.92857142857143\n",
            "34th model: \n",
            "Progress= 60.71428571428571\n",
            "35th model: \n",
            "Progress= 62.5\n",
            "36th model: \n",
            "Progress= 64.28571428571429\n",
            "37th model: \n",
            "Progress= 66.07142857142857\n",
            "38th model: \n",
            "Progress= 67.85714285714286\n",
            "39th model: \n",
            "Progress= 69.64285714285714\n",
            "40th model: \n",
            "Progress= 71.42857142857143\n",
            "41th model: \n",
            "Progress= 73.21428571428571\n",
            "42th model: \n",
            "Progress= 75.0\n",
            "43th model: \n",
            "Progress= 76.78571428571429\n",
            "44th model: \n",
            "Progress= 78.57142857142857\n",
            "45th model: \n",
            "Progress= 80.35714285714286\n",
            "46th model: \n",
            "Progress= 82.14285714285714\n",
            "47th model: \n",
            "Progress= 83.92857142857143\n",
            "48th model: \n",
            "Progress= 85.71428571428571\n",
            "49th model: \n",
            "Progress= 87.5\n",
            "50th model: \n",
            "Progress= 89.28571428571429\n",
            "51th model: \n",
            "Progress= 91.07142857142857\n",
            "52th model: \n",
            "Progress= 92.85714285714286\n",
            "53th model: \n",
            "Progress= 94.64285714285714\n",
            "54th model: \n",
            "Progress= 96.42857142857143\n",
            "55th model: \n",
            "Progress= 98.21428571428571\n",
            "time: 22.3 s (started: 2023-12-30 14:53:27 +00:00)\n"
          ]
        }
      ]
    },
    {
      "cell_type": "code",
      "source": [
        "val_accuracy=[]\n",
        "for i in range(epochs):\n",
        "    val_accuracy.append(grid_search[i].score(StandardScaler().fit(X_val[i]).transform(X_val[i]), y_val[i]))\n",
        "print(sum(val_accuracy)/epochs*100)\n",
        "\n",
        "test_accuracy=[]\n",
        "for i in range(epochs):\n",
        "    test_accuracy.append(grid_search[i].score(StandardScaler().fit(X_test).transform(X_test), y_test))\n",
        "print(sum(test_accuracy)/epochs*100)"
      ],
      "metadata": {
        "colab": {
          "base_uri": "https://localhost:8080/"
        },
        "id": "Cdftk4sJNPFj",
        "outputId": "32753052-3ba8-480b-dadc-f79f7a188cc3"
      },
      "execution_count": null,
      "outputs": [
        {
          "output_type": "stream",
          "name": "stdout",
          "text": [
            "61.28581683657192\n",
            "61.30483285778096\n",
            "time: 4.35 s (started: 2023-12-30 14:53:49 +00:00)\n"
          ]
        }
      ]
    }
  ]
}