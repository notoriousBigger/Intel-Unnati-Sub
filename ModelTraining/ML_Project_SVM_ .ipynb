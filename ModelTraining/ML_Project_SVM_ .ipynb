{
  "cells": [
    {
      "cell_type": "markdown",
      "metadata": {
        "id": "LR522QnThKBY"
      },
      "source": [
        "# Support Vector Classifier"
      ]
    },
    {
      "cell_type": "code",
      "execution_count": null,
      "metadata": {
        "id": "XsrVFRv2hMU7"
      },
      "outputs": [],
      "source": [
        "import pandas as pd\n",
        "from sklearn.svm import SVC\n",
        "from sklearn.preprocessing import StandardScaler\n",
        "from sklearn.pipeline import make_pipeline\n",
        "from sklearn.model_selection import train_test_split\n",
        "import numpy as np\n",
        "import matplotlib.pyplot as plt"
      ]
    },
    {
      "cell_type": "code",
      "execution_count": null,
      "metadata": {
        "colab": {
          "base_uri": "https://localhost:8080/"
        },
        "id": "qUMNx1IChoIN",
        "outputId": "632031b6-098a-46b0-a77b-a03c4da8ef85"
      },
      "outputs": [
        {
          "name": "stdout",
          "output_type": "stream",
          "text": [
            "Requirement already satisfied: ipython-autotime in c:\\users\\mirza\\appdata\\local\\programs\\python\\python312\\lib\\site-packages (0.3.2)\n",
            "Requirement already satisfied: ipython in c:\\users\\mirza\\appdata\\local\\programs\\python\\python312\\lib\\site-packages (from ipython-autotime) (8.17.2)\n",
            "Requirement already satisfied: decorator in c:\\users\\mirza\\appdata\\local\\programs\\python\\python312\\lib\\site-packages (from ipython->ipython-autotime) (5.1.1)\n",
            "Requirement already satisfied: jedi>=0.16 in c:\\users\\mirza\\appdata\\local\\programs\\python\\python312\\lib\\site-packages (from ipython->ipython-autotime) (0.19.1)\n",
            "Requirement already satisfied: matplotlib-inline in c:\\users\\mirza\\appdata\\local\\programs\\python\\python312\\lib\\site-packages (from ipython->ipython-autotime) (0.1.6)\n",
            "Requirement already satisfied: prompt-toolkit!=3.0.37,<3.1.0,>=3.0.30 in c:\\users\\mirza\\appdata\\local\\programs\\python\\python312\\lib\\site-packages (from ipython->ipython-autotime) (3.0.41)\n",
            "Requirement already satisfied: pygments>=2.4.0 in c:\\users\\mirza\\appdata\\local\\programs\\python\\python312\\lib\\site-packages (from ipython->ipython-autotime) (2.17.1)\n",
            "Requirement already satisfied: stack-data in c:\\users\\mirza\\appdata\\local\\programs\\python\\python312\\lib\\site-packages (from ipython->ipython-autotime) (0.6.3)\n",
            "Requirement already satisfied: traitlets>=5 in c:\\users\\mirza\\appdata\\local\\programs\\python\\python312\\lib\\site-packages (from ipython->ipython-autotime) (5.13.0)\n",
            "Requirement already satisfied: colorama in c:\\users\\mirza\\appdata\\local\\programs\\python\\python312\\lib\\site-packages (from ipython->ipython-autotime) (0.4.6)\n",
            "Requirement already satisfied: parso<0.9.0,>=0.8.3 in c:\\users\\mirza\\appdata\\local\\programs\\python\\python312\\lib\\site-packages (from jedi>=0.16->ipython->ipython-autotime) (0.8.3)\n",
            "Requirement already satisfied: wcwidth in c:\\users\\mirza\\appdata\\local\\programs\\python\\python312\\lib\\site-packages (from prompt-toolkit!=3.0.37,<3.1.0,>=3.0.30->ipython->ipython-autotime) (0.2.10)\n",
            "Requirement already satisfied: executing>=1.2.0 in c:\\users\\mirza\\appdata\\local\\programs\\python\\python312\\lib\\site-packages (from stack-data->ipython->ipython-autotime) (2.0.1)\n",
            "Requirement already satisfied: asttokens>=2.1.0 in c:\\users\\mirza\\appdata\\local\\programs\\python\\python312\\lib\\site-packages (from stack-data->ipython->ipython-autotime) (2.4.1)\n",
            "Requirement already satisfied: pure-eval in c:\\users\\mirza\\appdata\\local\\programs\\python\\python312\\lib\\site-packages (from stack-data->ipython->ipython-autotime) (0.2.2)\n",
            "Requirement already satisfied: six>=1.12.0 in c:\\users\\mirza\\appdata\\local\\programs\\python\\python312\\lib\\site-packages (from asttokens>=2.1.0->stack-data->ipython->ipython-autotime) (1.16.0)\n",
            "time: 0 ns (started: 2024-01-10 12:23:14 +06:00)\n"
          ]
        }
      ],
      "source": [
        "!pip install ipython-autotime\n",
        "%load_ext autotime"
      ]
    },
    {
      "cell_type": "code",
      "execution_count": null,
      "metadata": {
        "colab": {
          "base_uri": "https://localhost:8080/"
        },
        "id": "yOMjoEtmhyVa",
        "outputId": "498edb76-15d4-4db6-c836-69260e89db52"
      },
      "outputs": [
        {
          "name": "stdout",
          "output_type": "stream",
          "text": [
            "time: 26.3 s (started: 2024-01-10 12:23:14 +06:00)\n"
          ]
        }
      ],
      "source": [
        "datasets=[]\n",
        "for i in range(0,70):\n",
        "  df=pd.read_csv(f'../ProcessedDatasets/dataset{i}.csv')\n",
        "  datasets.append(df)"
      ]
    },
    {
      "cell_type": "code",
      "execution_count": null,
      "metadata": {
        "colab": {
          "base_uri": "https://localhost:8080/"
        },
        "id": "EJwUx_o2AsCI",
        "outputId": "bd4c6e30-a55c-447e-b0ec-c2b04f8c3e93"
      },
      "outputs": [
        {
          "name": "stdout",
          "output_type": "stream",
          "text": [
            "time: 406 ms (started: 2024-01-10 12:23:40 +06:00)\n"
          ]
        }
      ],
      "source": [
        "for i in range(len(datasets)):\n",
        "  datasets[i]=datasets[i].drop(['filename','Unnamed: 0'],axis=1)"
      ]
    },
    {
      "cell_type": "code",
      "execution_count": null,
      "metadata": {
        "colab": {
          "base_uri": "https://localhost:8080/"
        },
        "id": "dzmtK9alBGWW",
        "outputId": "9667f905-9e73-4eed-a368-db3431db4066"
      },
      "outputs": [
        {
          "name": "stdout",
          "output_type": "stream",
          "text": [
            "time: 0 ns (started: 2024-01-10 12:23:41 +06:00)\n"
          ]
        }
      ],
      "source": [
        "models=[]\n",
        "for i in range(len(datasets)):\n",
        "  models.append(make_pipeline(StandardScaler(), SVC(kernel='rbf')))"
      ]
    },
    {
      "cell_type": "code",
      "execution_count": null,
      "metadata": {
        "colab": {
          "base_uri": "https://localhost:8080/"
        },
        "id": "PYkvlFJ_hq73",
        "outputId": "f564f209-d05f-427a-b0d3-c77588093226"
      },
      "outputs": [
        {
          "name": "stdout",
          "output_type": "stream",
          "text": [
            "time: 31 ms (started: 2024-01-10 12:23:41 +06:00)\n"
          ]
        }
      ],
      "source": [
        "X_train=[]\n",
        "y_train=[]"
      ]
    },
    {
      "cell_type": "code",
      "execution_count": null,
      "metadata": {
        "colab": {
          "base_uri": "https://localhost:8080/"
        },
        "id": "kJu4PZr3iJVJ",
        "outputId": "86fa76a0-b467-4eec-dcaf-74f48829f2d8"
      },
      "outputs": [
        {
          "name": "stdout",
          "output_type": "stream",
          "text": [
            "time: 657 ms (started: 2024-01-10 12:23:41 +06:00)\n"
          ]
        }
      ],
      "source": [
        "for i in range(len(datasets)):\n",
        "  X_train.append(datasets[i].drop(['Bug Present'],axis=1).values)\n",
        "  y_train.append(datasets[i]['Bug Present'].values)"
      ]
    },
    {
      "cell_type": "code",
      "execution_count": null,
      "metadata": {
        "colab": {
          "base_uri": "https://localhost:8080/"
        },
        "id": "Fsbkhzh7VGrT",
        "outputId": "f421e184-b17a-4411-e247-eb3abded121e",
        "scrolled": true
      },
      "outputs": [
        {
          "name": "stdout",
          "output_type": "stream",
          "text": [
            "0.0\n",
            "1.4285714285714286\n",
            "2.857142857142857\n",
            "4.285714285714286\n",
            "5.714285714285714\n",
            "7.142857142857142\n",
            "8.571428571428571\n",
            "10.0\n",
            "11.428571428571429\n",
            "12.857142857142856\n",
            "14.285714285714285\n",
            "15.714285714285714\n",
            "17.142857142857142\n",
            "18.571428571428573\n",
            "20.0\n",
            "21.428571428571427\n",
            "22.857142857142858\n",
            "24.285714285714285\n",
            "25.71428571428571\n",
            "27.142857142857142\n",
            "28.57142857142857\n",
            "30.0\n",
            "31.428571428571427\n",
            "32.857142857142854\n",
            "34.285714285714285\n",
            "35.714285714285715\n",
            "37.142857142857146\n",
            "38.57142857142858\n",
            "40.0\n",
            "41.42857142857143\n",
            "42.857142857142854\n",
            "44.285714285714285\n",
            "45.714285714285715\n",
            "47.14285714285714\n",
            "48.57142857142857\n",
            "50.0\n",
            "51.42857142857142\n",
            "52.85714285714286\n",
            "54.285714285714285\n",
            "55.714285714285715\n",
            "57.14285714285714\n",
            "58.57142857142858\n",
            "60.0\n",
            "61.42857142857143\n",
            "62.857142857142854\n",
            "64.28571428571429\n",
            "65.71428571428571\n",
            "67.14285714285714\n",
            "68.57142857142857\n",
            "70.0\n",
            "71.42857142857143\n",
            "72.85714285714285\n",
            "74.28571428571429\n",
            "75.71428571428571\n",
            "77.14285714285715\n",
            "78.57142857142857\n",
            "80.0\n",
            "81.42857142857143\n",
            "82.85714285714286\n",
            "84.28571428571429\n",
            "85.71428571428571\n",
            "87.14285714285714\n",
            "88.57142857142857\n",
            "90.0\n",
            "91.42857142857143\n",
            "92.85714285714286\n",
            "94.28571428571428\n",
            "95.71428571428572\n",
            "97.14285714285714\n",
            "98.57142857142858\n",
            "time: 4h 15min 57s (started: 2024-01-10 12:23:41 +06:00)\n"
          ]
        }
      ],
      "source": [
        "progress=0\n",
        "for i in range(len(datasets)):\n",
        "    print(progress/len(datasets)*100)\n",
        "    models[i].fit(X_train[i],y_train[i])\n",
        "    progress+=1"
      ]
    },
    {
      "cell_type": "markdown",
      "metadata": {
        "id": "NW8caye_sGaW"
      },
      "source": [
        "# Performance Metrics"
      ]
    },
    {
      "cell_type": "code",
      "execution_count": null,
      "metadata": {
        "colab": {
          "base_uri": "https://localhost:8080/"
        },
        "id": "8SNpj_NcFfX6",
        "outputId": "06bdb75f-0162-4281-8fa8-dd3fe246fddc"
      },
      "outputs": [
        {
          "name": "stdout",
          "output_type": "stream",
          "text": [
            "0th model: \n"
          ]
        }
      ],
      "source": [
        "from sklearn.model_selection import GridSearchCV, train_test_split\n",
        "\n",
        "param_grid = {}\n",
        "dtree = SVC(kernel='rbf')\n",
        "grid_search=[]\n",
        "epochs=len(datasets)\n",
        "for i in range(epochs):\n",
        "    print(f'{i}th model: ')\n",
        "    grid_search_tmp = GridSearchCV(dtree, param_grid, scoring='accuracy', cv=10)\n",
        "    grid_search_tmp.fit(StandardScaler().fit(X_train[i]).transform(X_train[i]), y_train[i])\n",
        "    grid_search.append(grid_search_tmp)\n",
        "    print(\"Progress=\",(i/epochs)*100)\n",
        "\n"
      ]
    },
    {
      "cell_type": "code",
      "execution_count": null,
      "metadata": {
        "colab": {
          "base_uri": "https://localhost:8080/"
        },
        "id": "UlsHYaRLrdXT",
        "outputId": "115c128f-d898-42b9-ee4a-56d8a34981be"
      },
      "outputs": [
        {
          "name": "stdout",
          "output_type": "stream",
          "text": [
            "time: 0 ns (started: 2024-01-10 16:39:38 +06:00)\n"
          ]
        }
      ],
      "source": [
        "from sklearn.metrics import accuracy_score"
      ]
    },
    {
      "cell_type": "code",
      "execution_count": null,
      "metadata": {
        "colab": {
          "base_uri": "https://localhost:8080/",
          "height": 262
        },
        "id": "MmS_guQaNRnI",
        "outputId": "f56e1fab-a418-4b6a-d9b1-f5fd11fc646c"
      },
      "outputs": [
        {
          "name": "stdout",
          "output_type": "stream",
          "text": [
            "time: 1h 6min 24s (started: 2024-01-10 16:39:38 +06:00)\n"
          ]
        }
      ],
      "source": [
        "test_set=pd.read_csv(f'../ProcessedDatasets/test_set.csv')\n",
        "test_set=test_set.drop(['filename','Unnamed: 0'],axis=1)\n",
        "X_test,y_test=test_set.drop(['Bug Present'],axis=1).values,test_set['Bug Present'].values\n",
        "y_test_pred=[]\n",
        "for i in range(len(datasets)):\n",
        "  y_pred=models[i].predict(X_test)\n",
        "  y_test_pred.append(y_pred)\n",
        "\n",
        "\n",
        "\n",
        "\n",
        "\n"
      ]
    },
    {
      "cell_type": "code",
      "execution_count": null,
      "metadata": {
        "id": "7NZFhi0IO1LP",
        "outputId": "8c4bb419-ecdb-4fb4-a177-802498313896"
      },
      "outputs": [
        {
          "name": "stdout",
          "output_type": "stream",
          "text": [
            "time: 31 ms (started: 2024-01-10 17:46:03 +06:00)\n"
          ]
        }
      ],
      "source": [
        "result = []\n",
        "y_test_pred=np.array(y_test_pred)\n",
        "for column in y_test_pred.T:\n",
        "    most_common = np.bincount(column).argmax()\n",
        "    result.append(most_common)\n",
        "\n",
        "result = np.array(result)"
      ]
    },
    {
      "cell_type": "code",
      "execution_count": null,
      "metadata": {
        "id": "IpMroJ2KPyw8",
        "outputId": "acdbe70e-96cc-4c80-f2f0-5c0918928f8b"
      },
      "outputs": [
        {
          "data": {
            "text/plain": [
              "array([1, 0, 1, ..., 1, 1, 1], dtype=int64)"
            ]
          },
          "execution_count": 12,
          "metadata": {},
          "output_type": "execute_result"
        },
        {
          "name": "stdout",
          "output_type": "stream",
          "text": [
            "time: 0 ns (started: 2024-01-10 17:46:03 +06:00)\n"
          ]
        }
      ],
      "source": [
        "result"
      ]
    },
    {
      "cell_type": "code",
      "execution_count": null,
      "metadata": {
        "id": "aGZ98Cj4Wm0B",
        "outputId": "175223ae-59a0-4eb7-dc9b-640f8eaf4837"
      },
      "outputs": [
        {
          "name": "stdout",
          "output_type": "stream",
          "text": [
            "Accuracy on Test Set:  72.37289938310998\n",
            "time: 15 ms (started: 2024-01-10 17:46:03 +06:00)\n"
          ]
        }
      ],
      "source": [
        "print(\"Accuracy on Test Set: \", accuracy_score(result,y_test)*100)"
      ]
    },
    {
      "cell_type": "code",
      "execution_count": null,
      "metadata": {
        "id": "PYG_nsgrTuJc"
      },
      "outputs": [],
      "source": [
        "test_accuracy=[]\n",
        "for i in range(epochs):\n",
        "    test_accuracy.append(grid_search[i].score(StandardScaler().fit(X_test).transform(X_test), y_test))\n",
        "print(\"Accuracy with 10-fold Cross Validation: \",sum(test_accuracy)/epochs*100)"
      ]
    },
    {
      "cell_type": "code",
      "execution_count": null,
      "metadata": {
        "id": "zEh-qejgrjcf",
        "outputId": "5c305fc4-80b7-4a16-9789-c46568e9aa9c"
      },
      "outputs": [
        {
          "name": "stdout",
          "output_type": "stream",
          "text": [
            "time: 0 ns (started: 2024-01-10 17:46:03 +06:00)\n"
          ]
        }
      ],
      "source": [
        "from sklearn.metrics import roc_curve,auc"
      ]
    },
    {
      "cell_type": "code",
      "execution_count": null,
      "metadata": {
        "id": "Q4d7bPyPswkD",
        "outputId": "ca12996d-6610-43cf-f79d-6a687a5c69f8"
      },
      "outputs": [
        {
          "name": "stdout",
          "output_type": "stream",
          "text": [
            "time: 31 ms (started: 2024-01-10 17:46:03 +06:00)\n"
          ]
        }
      ],
      "source": [
        "fpr,tpr, _ = roc_curve(y_test, result)\n",
        "roc_auc = auc(fpr,tpr)"
      ]
    },
    {
      "cell_type": "code",
      "execution_count": null,
      "metadata": {
        "id": "M553uZv1tIz8",
        "outputId": "c6e4356d-f36a-4f54-b455-6998efbfca8c"
      },
      "outputs": [
        {
          "data": {
            "image/png": "[encoded data removed]",
            "text/plain": [
              "<Figure size 640x480 with 1 Axes>"
            ]
          },
          "metadata": {},
          "output_type": "display_data"
        },
        {
          "name": "stdout",
          "output_type": "stream",
          "text": [
            "time: 187 ms (started: 2024-01-10 17:46:03 +06:00)\n"
          ]
        }
      ],
      "source": [
        "plt.plot(fpr, tpr, label='ROC curve (AUC = {:.2f})'.format(roc_auc))\n",
        "plt.xlabel('False Positive Rate')\n",
        "plt.ylabel('True Positive Rate')\n",
        "plt.title('ROC Curve using SVC')\n",
        "plt.legend(loc=\"lower right\")\n",
        "plt.show()"
      ]
    },
    {
      "cell_type": "code",
      "execution_count": null,
      "metadata": {
        "id": "UWD-vhVhtKff",
        "outputId": "6cfa57dc-04d8-48be-ce06-20bf774abbba"
      },
      "outputs": [
        {
          "name": "stdout",
          "output_type": "stream",
          "text": [
            "time: 219 ms (started: 2024-01-10 17:46:03 +06:00)\n"
          ]
        }
      ],
      "source": [
        "from sklearn.metrics import confusion_matrix\n",
        "import seaborn as sns"
      ]
    },
    {
      "cell_type": "code",
      "execution_count": null,
      "metadata": {
        "id": "5u81KooYtxuM",
        "outputId": "5c4a1107-828c-4c27-9099-9b1a8e0c0c71"
      },
      "outputs": [
        {
          "data": {
            "image/png": "[encoded data removed]",
            "text/plain": [
              "<Figure size 800x600 with 1 Axes>"
            ]
          },
          "metadata": {},
          "output_type": "display_data"
        },
        {
          "name": "stdout",
          "output_type": "stream",
          "text": [
            "time: 78 ms (started: 2024-01-10 17:46:03 +06:00)\n"
          ]
        }
      ],
      "source": [
        "confusion=confusion_matrix(y_test,result)\n",
        "plt.figure(figsize=(8, 6))\n",
        "sns.heatmap(confusion, annot=True, fmt=\"d\", cmap=\"Blues\", cbar=False, xticklabels=['Bug Absent', 'Bug Present'], yticklabels=['Bug Absent', 'Bug Present'])\n",
        "plt.xlabel('Predicted')\n",
        "plt.ylabel('True')\n",
        "plt.title('Confusion Matrix for SVC')\n",
        "\n",
        "plt.show()"
      ]
    },
    {
      "cell_type": "code",
      "execution_count": null,
      "metadata": {
        "id": "-ggQmpMJM1Ap",
        "outputId": "c42297d5-23bb-4924-85a3-6db392951ab6"
      },
      "outputs": [
        {
          "name": "stdout",
          "output_type": "stream",
          "text": [
            "Requirement already satisfied: joblib in c:\\users\\mirza\\appdata\\local\\programs\\python\\python312\\lib\\site-packages (1.3.2)\n",
            "time: 2.67 s (started: 2024-01-10 17:46:03 +06:00)\n"
          ]
        }
      ],
      "source": [
        "!pip install joblib\n"
      ]
    },
    {
      "cell_type": "code",
      "execution_count": null,
      "metadata": {
        "id": "PFehKJB8NEOc",
        "outputId": "ebe9043b-469e-4f06-b7b7-2cfda6729863"
      },
      "outputs": [
        {
          "data": {
            "text/plain": [
              "['../svm_model.joblib']"
            ]
          },
          "execution_count": 21,
          "metadata": {},
          "output_type": "execute_result"
        },
        {
          "name": "stdout",
          "output_type": "stream",
          "text": [
            "time: 17.7 s (started: 2024-01-10 20:48:21 +06:00)\n"
          ]
        }
      ],
      "source": [
        "import joblib\n",
        "joblib.dump(models, '../svm_model.joblib')"
      ]
    },
    {
      "cell_type": "code",
      "execution_count": null,
      "metadata": {
        "id": "bmTnOEDyNM0r"
      },
      "outputs": [],
      "source": []
    }
  ],
  "metadata": {
    "colab": {
      "provenance": []
    },
    "kernelspec": {
      "display_name": "Python 3 (ipykernel)",
      "language": "python",
      "name": "python3"
    },
    "language_info": {
      "codemirror_mode": {
        "name": "ipython",
        "version": 3
      },
      "file_extension": ".py",
      "mimetype": "text/x-python",
      "name": "python",
      "nbconvert_exporter": "python",
      "pygments_lexer": "ipython3",
      "version": "3.12.0"
    }
  },
  "nbformat": 4,
  "nbformat_minor": 0
}