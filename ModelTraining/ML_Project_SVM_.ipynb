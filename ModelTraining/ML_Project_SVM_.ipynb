{
  "cells": [
    {
      "cell_type": "markdown",
      "metadata": {
        "id": "LR522QnThKBY"
      },
      "source": [
        "# Support Vector Classifier"
      ]
    },
    {
      "cell_type": "code",
      "execution_count": null,
      "metadata": {
        "id": "XsrVFRv2hMU7"
      },
      "outputs": [],
      "source": [
        "import pandas as pd\n",
        "from sklearn.svm import SVC\n",
        "from sklearn.preprocessing import StandardScaler\n",
        "from sklearn.pipeline import make_pipeline\n",
        "from sklearn.model_selection import train_test_split\n",
        "import numpy as np\n",
        "import matplotlib.pyplot as plt"
      ]
    },
    {
      "cell_type": "code",
      "execution_count": null,
      "metadata": {
        "colab": {
          "base_uri": "https://localhost:8080/"
        },
        "id": "qUMNx1IChoIN",
        "outputId": "632031b6-098a-46b0-a77b-a03c4da8ef85"
      },
      "outputs": [
        {
          "name": "stdout",
          "output_type": "stream",
          "text": [
            "Requirement already satisfied: ipython-autotime in c:\\users\\mirza\\appdata\\local\\programs\\python\\python312\\lib\\site-packages (0.3.2)\n",
            "Requirement already satisfied: ipython in c:\\users\\mirza\\appdata\\local\\programs\\python\\python312\\lib\\site-packages (from ipython-autotime) (8.17.2)\n",
            "Requirement already satisfied: decorator in c:\\users\\mirza\\appdata\\local\\programs\\python\\python312\\lib\\site-packages (from ipython->ipython-autotime) (5.1.1)\n",
            "Requirement already satisfied: jedi>=0.16 in c:\\users\\mirza\\appdata\\local\\programs\\python\\python312\\lib\\site-packages (from ipython->ipython-autotime) (0.19.1)\n",
            "Requirement already satisfied: matplotlib-inline in c:\\users\\mirza\\appdata\\local\\programs\\python\\python312\\lib\\site-packages (from ipython->ipython-autotime) (0.1.6)\n",
            "Requirement already satisfied: prompt-toolkit!=3.0.37,<3.1.0,>=3.0.30 in c:\\users\\mirza\\appdata\\local\\programs\\python\\python312\\lib\\site-packages (from ipython->ipython-autotime) (3.0.41)\n",
            "Requirement already satisfied: pygments>=2.4.0 in c:\\users\\mirza\\appdata\\local\\programs\\python\\python312\\lib\\site-packages (from ipython->ipython-autotime) (2.17.1)\n",
            "Requirement already satisfied: stack-data in c:\\users\\mirza\\appdata\\local\\programs\\python\\python312\\lib\\site-packages (from ipython->ipython-autotime) (0.6.3)\n",
            "Requirement already satisfied: traitlets>=5 in c:\\users\\mirza\\appdata\\local\\programs\\python\\python312\\lib\\site-packages (from ipython->ipython-autotime) (5.13.0)\n",
            "Requirement already satisfied: colorama in c:\\users\\mirza\\appdata\\local\\programs\\python\\python312\\lib\\site-packages (from ipython->ipython-autotime) (0.4.6)\n",
            "Requirement already satisfied: parso<0.9.0,>=0.8.3 in c:\\users\\mirza\\appdata\\local\\programs\\python\\python312\\lib\\site-packages (from jedi>=0.16->ipython->ipython-autotime) (0.8.3)\n",
            "Requirement already satisfied: wcwidth in c:\\users\\mirza\\appdata\\local\\programs\\python\\python312\\lib\\site-packages (from prompt-toolkit!=3.0.37,<3.1.0,>=3.0.30->ipython->ipython-autotime) (0.2.10)\n",
            "Requirement already satisfied: executing>=1.2.0 in c:\\users\\mirza\\appdata\\local\\programs\\python\\python312\\lib\\site-packages (from stack-data->ipython->ipython-autotime) (2.0.1)\n",
            "Requirement already satisfied: asttokens>=2.1.0 in c:\\users\\mirza\\appdata\\local\\programs\\python\\python312\\lib\\site-packages (from stack-data->ipython->ipython-autotime) (2.4.1)\n",
            "Requirement already satisfied: pure-eval in c:\\users\\mirza\\appdata\\local\\programs\\python\\python312\\lib\\site-packages (from stack-data->ipython->ipython-autotime) (0.2.2)\n",
            "Requirement already satisfied: six>=1.12.0 in c:\\users\\mirza\\appdata\\local\\programs\\python\\python312\\lib\\site-packages (from asttokens>=2.1.0->stack-data->ipython->ipython-autotime) (1.16.0)\n",
            "time: 0 ns (started: 2023-12-29 03:14:43 +06:00)\n"
          ]
        },
        {
          "name": "stderr",
          "output_type": "stream",
          "text": [
            "\n",
            "[notice] A new release of pip is available: 23.3.1 -> 23.3.2\n",
            "[notice] To update, run: python.exe -m pip install --upgrade pip\n"
          ]
        }
      ],
      "source": [
        "!pip install ipython-autotime\n",
        "%load_ext autotime"
      ]
    },
    {
      "cell_type": "code",
      "execution_count": null,
      "metadata": {
        "colab": {
          "base_uri": "https://localhost:8080/"
        },
        "id": "yOMjoEtmhyVa",
        "outputId": "498edb76-15d4-4db6-c836-69260e89db52"
      },
      "outputs": [
        {
          "name": "stdout",
          "output_type": "stream",
          "text": [
            "time: 45.4 s (started: 2023-12-29 03:15:36 +06:00)\n"
          ]
        }
      ],
      "source": [
        "datasets=[]\n",
        "for i in range(0,56):\n",
        "  df=pd.read_csv(f'../ProcessedDatasets/dataset{i}.csv')\n",
        "  datasets.append(df)"
      ]
    },
    {
      "cell_type": "code",
      "execution_count": null,
      "metadata": {
        "colab": {
          "base_uri": "https://localhost:8080/"
        },
        "id": "EJwUx_o2AsCI",
        "outputId": "bd4c6e30-a55c-447e-b0ec-c2b04f8c3e93"
      },
      "outputs": [
        {
          "name": "stdout",
          "output_type": "stream",
          "text": [
            "time: 563 ms (started: 2023-12-29 03:16:33 +06:00)\n"
          ]
        }
      ],
      "source": [
        "for i in range(len(datasets)):\n",
        "  datasets[i]=datasets[i].drop(['filename','Unnamed: 0'],axis=1)"
      ]
    },
    {
      "cell_type": "code",
      "execution_count": null,
      "metadata": {
        "colab": {
          "base_uri": "https://localhost:8080/"
        },
        "id": "dzmtK9alBGWW",
        "outputId": "9667f905-9e73-4eed-a368-db3431db4066"
      },
      "outputs": [
        {
          "name": "stdout",
          "output_type": "stream",
          "text": [
            "time: 0 ns (started: 2023-12-29 03:16:34 +06:00)\n"
          ]
        }
      ],
      "source": [
        "models=[]\n",
        "for i in range(len(datasets)):\n",
        "  models.append(make_pipeline(StandardScaler(), SVC(kernel='rbf')))"
      ]
    },
    {
      "cell_type": "code",
      "execution_count": null,
      "metadata": {
        "colab": {
          "base_uri": "https://localhost:8080/"
        },
        "id": "PYkvlFJ_hq73",
        "outputId": "f564f209-d05f-427a-b0d3-c77588093226"
      },
      "outputs": [
        {
          "name": "stdout",
          "output_type": "stream",
          "text": [
            "time: 16 ms (started: 2023-12-29 03:16:35 +06:00)\n"
          ]
        }
      ],
      "source": [
        "X_train=[]\n",
        "y_train=[]\n",
        "X_val=[]\n",
        "y_val=[]"
      ]
    },
    {
      "cell_type": "code",
      "execution_count": null,
      "metadata": {
        "colab": {
          "base_uri": "https://localhost:8080/"
        },
        "id": "kJu4PZr3iJVJ",
        "outputId": "86fa76a0-b467-4eec-dcaf-74f48829f2d8"
      },
      "outputs": [
        {
          "name": "stdout",
          "output_type": "stream",
          "text": [
            "time: 2.33 s (started: 2023-12-29 03:16:40 +06:00)\n"
          ]
        }
      ],
      "source": [
        "for i in range(len(datasets)):\n",
        "  X=datasets[i].drop(['Bug Present'],axis=1).values\n",
        "  y=datasets[i]['Bug Present'].values\n",
        "  x_tr1,x_te1,y_tr1,y_te1=train_test_split(X,y,test_size=0.2,random_state=42)\n",
        "  X_train.append(x_tr1)\n",
        "  y_train.append(y_tr1)\n",
        "  X_val.append(x_te1)\n",
        "  y_val.append(y_te1)"
      ]
    },
    {
      "cell_type": "code",
      "execution_count": null,
      "metadata": {
        "colab": {
          "base_uri": "https://localhost:8080/"
        },
        "id": "Fsbkhzh7VGrT",
        "outputId": "f421e184-b17a-4411-e247-eb3abded121e",
        "scrolled": true
      },
      "outputs": [
        {
          "name": "stdout",
          "output_type": "stream",
          "text": [
            "Progress:  1.7857142857142856\n",
            "Progress:  3.571428571428571\n",
            "Progress:  5.357142857142857\n",
            "Progress:  7.142857142857142\n",
            "Progress:  8.928571428571429\n",
            "Progress:  10.714285714285714\n",
            "Progress:  12.5\n",
            "Progress:  14.285714285714285\n",
            "Progress:  16.071428571428573\n",
            "Progress:  17.857142857142858\n",
            "Progress:  19.642857142857142\n",
            "Progress:  21.428571428571427\n",
            "Progress:  23.214285714285715\n",
            "Progress:  25.0\n",
            "Progress:  26.785714285714285\n",
            "Progress:  28.57142857142857\n",
            "Progress:  30.357142857142854\n",
            "Progress:  32.142857142857146\n",
            "Progress:  33.92857142857143\n",
            "Progress:  35.714285714285715\n",
            "Progress:  37.5\n",
            "Progress:  39.285714285714285\n",
            "Progress:  41.07142857142857\n",
            "Progress:  42.857142857142854\n",
            "Progress:  44.642857142857146\n",
            "Progress:  46.42857142857143\n",
            "Progress:  48.214285714285715\n",
            "Progress:  50.0\n",
            "Progress:  51.78571428571429\n",
            "Progress:  53.57142857142857\n",
            "Progress:  55.35714285714286\n",
            "Progress:  57.14285714285714\n",
            "Progress:  58.92857142857143\n",
            "Progress:  60.71428571428571\n",
            "Progress:  62.5\n",
            "Progress:  64.28571428571429\n",
            "Progress:  66.07142857142857\n",
            "Progress:  67.85714285714286\n",
            "Progress:  69.64285714285714\n",
            "Progress:  71.42857142857143\n",
            "Progress:  73.21428571428571\n",
            "Progress:  75.0\n",
            "Progress:  76.78571428571429\n",
            "Progress:  78.57142857142857\n",
            "Progress:  80.35714285714286\n",
            "Progress:  82.14285714285714\n",
            "Progress:  83.92857142857143\n",
            "Progress:  85.71428571428571\n",
            "Progress:  87.5\n",
            "Progress:  89.28571428571429\n",
            "Progress:  91.07142857142857\n",
            "Progress:  92.85714285714286\n",
            "Progress:  94.64285714285714\n",
            "Progress:  96.42857142857143\n",
            "Progress:  98.21428571428571\n",
            "Progress:  100.0\n",
            "time: 10h 40min 16s (started: 2023-12-29 03:16:43 +06:00)\n"
          ]
        }
      ],
      "source": [
        "progress=0\n",
        "for i in range(len(datasets)):\n",
        "  models[i].fit(X_train[i],y_train[i])\n",
        "  progress+=1\n",
        "  print(\"Progress: \",progress/len(datasets)*100)"
      ]
    },
    {
      "cell_type": "markdown",
      "metadata": {
        "id": "NW8caye_sGaW"
      },
      "source": [
        "# Performance Metrics"
      ]
    },
    {
      "cell_type": "code",
      "execution_count": null,
      "metadata": {
        "colab": {
          "base_uri": "https://localhost:8080/"
        },
        "id": "8SNpj_NcFfX6",
        "outputId": "06bdb75f-0162-4281-8fa8-dd3fe246fddc"
      },
      "outputs": [
        {
          "name": "stdout",
          "output_type": "stream",
          "text": [
            "time: 1h 13min 12s (started: 2023-12-29 13:57:00 +06:00)\n"
          ]
        }
      ],
      "source": [
        "y_Pred=[]\n",
        "for i in range(len(datasets)):\n",
        "  y_Pred.append(models[i].predict(X_val[i]))"
      ]
    },
    {
      "cell_type": "code",
      "execution_count": null,
      "metadata": {
        "colab": {
          "base_uri": "https://localhost:8080/"
        },
        "id": "UlsHYaRLrdXT",
        "outputId": "115c128f-d898-42b9-ee4a-56d8a34981be"
      },
      "outputs": [
        {
          "name": "stdout",
          "output_type": "stream",
          "text": [
            "time: 15 ms (started: 2023-12-29 15:10:12 +06:00)\n"
          ]
        }
      ],
      "source": [
        "from sklearn.metrics import accuracy_score"
      ]
    },
    {
      "cell_type": "code",
      "execution_count": null,
      "metadata": {
        "colab": {
          "base_uri": "https://localhost:8080/"
        },
        "id": "LbsnzMz2reiG",
        "outputId": "6848c5c0-5d7f-43e4-d053-21a09010e26e"
      },
      "outputs": [
        {
          "name": "stdout",
          "output_type": "stream",
          "text": [
            "Accuracy on Validation Set:  72.81709104996885 %\n",
            "time: 125 ms (started: 2023-12-29 15:10:12 +06:00)\n"
          ]
        }
      ],
      "source": [
        "accuracy=[]\n",
        "for i in range(len(datasets)):\n",
        "  accuracy.append(accuracy_score(y_Pred[i],y_val[i]))\n",
        "print(\"Accuracy on Validation Set: \",sum(accuracy)/len(datasets)*100,\"%\")"
      ]
    },
    {
      "cell_type": "code",
      "execution_count": null,
      "metadata": {
        "colab": {
          "base_uri": "https://localhost:8080/",
          "height": 262
        },
        "id": "MmS_guQaNRnI",
        "outputId": "f56e1fab-a418-4b6a-d9b1-f5fd11fc646c"
      },
      "outputs": [
        {
          "name": "stdout",
          "output_type": "stream",
          "text": [
            "0\n",
            "1.7857142857142856\n",
            "1\n",
            "3.571428571428571\n",
            "2\n",
            "5.357142857142857\n",
            "3\n",
            "7.142857142857142\n",
            "4\n",
            "8.928571428571429\n",
            "5\n",
            "10.714285714285714\n",
            "6\n",
            "12.5\n",
            "7\n",
            "14.285714285714285\n",
            "8\n",
            "16.071428571428573\n",
            "9\n",
            "17.857142857142858\n",
            "10\n",
            "19.642857142857142\n",
            "11\n",
            "21.428571428571427\n",
            "12\n",
            "23.214285714285715\n",
            "13\n",
            "25.0\n",
            "14\n",
            "26.785714285714285\n",
            "15\n",
            "28.57142857142857\n",
            "16\n",
            "30.357142857142854\n",
            "17\n",
            "32.142857142857146\n",
            "18\n",
            "33.92857142857143\n",
            "19\n",
            "35.714285714285715\n",
            "20\n",
            "37.5\n",
            "21\n",
            "39.285714285714285\n",
            "22\n",
            "41.07142857142857\n",
            "23\n",
            "42.857142857142854\n",
            "24\n",
            "44.642857142857146\n",
            "25\n",
            "46.42857142857143\n",
            "26\n",
            "48.214285714285715\n",
            "27\n",
            "50.0\n",
            "28\n",
            "51.78571428571429\n",
            "29\n",
            "53.57142857142857\n",
            "30\n",
            "55.35714285714286\n",
            "31\n",
            "57.14285714285714\n",
            "32\n",
            "58.92857142857143\n",
            "33\n",
            "60.71428571428571\n",
            "34\n",
            "62.5\n",
            "35\n",
            "64.28571428571429\n",
            "36\n",
            "66.07142857142857\n",
            "37\n",
            "67.85714285714286\n",
            "38\n",
            "69.64285714285714\n",
            "39\n",
            "71.42857142857143\n",
            "40\n",
            "73.21428571428571\n",
            "41\n",
            "75.0\n",
            "42\n",
            "76.78571428571429\n",
            "43\n",
            "78.57142857142857\n",
            "44\n",
            "80.35714285714286\n",
            "45\n",
            "82.14285714285714\n",
            "46\n",
            "83.92857142857143\n",
            "47\n",
            "85.71428571428571\n",
            "48\n",
            "87.5\n",
            "49\n",
            "89.28571428571429\n",
            "50\n",
            "91.07142857142857\n",
            "51\n",
            "92.85714285714286\n",
            "52\n",
            "94.64285714285714\n",
            "53\n",
            "96.42857142857143\n",
            "54\n",
            "98.21428571428571\n",
            "55\n",
            "100.0\n",
            "time: 3h 22min (started: 2023-12-29 17:39:34 +06:00)\n"
          ]
        }
      ],
      "source": [
        "test_set=pd.read_csv(f'../ProcessedDatasets/dataset56.csv')\n",
        "test_set=test_set.drop(['filename','Unnamed: 0'],axis=1)\n",
        "progress=0\n",
        "X_test,y_test=test_set.drop(['Bug Present'],axis=1).values,test_set['Bug Present'].values\n",
        "y_test_pred=[]\n",
        "for i in range(len(datasets)):\n",
        "    print(progress)\n",
        "    y_pred=models[i].predict(X_test)\n",
        "    y_test_pred.append(y_pred)\n",
        "    progress+=1\n",
        "    print(progress/len(datasets)*100)\n",
        "\n",
        "\n"
      ]
    },
    {
      "cell_type": "code",
      "execution_count": null,
      "metadata": {
        "id": "7NZFhi0IO1LP",
        "outputId": "8c4bb419-ecdb-4fb4-a177-802498313896"
      },
      "outputs": [
        {
          "name": "stdout",
          "output_type": "stream",
          "text": [
            "time: 156 ms (started: 2023-12-29 21:39:35 +06:00)\n"
          ]
        }
      ],
      "source": [
        "result = []\n",
        "y_test_pred=np.array(y_test_pred)\n",
        "for column in y_test_pred.T:\n",
        "    most_common = np.bincount(column).argmax()\n",
        "    result.append(most_common)\n",
        "\n",
        "result = np.array(result)"
      ]
    },
    {
      "cell_type": "code",
      "execution_count": null,
      "metadata": {
        "id": "IpMroJ2KPyw8",
        "outputId": "acdbe70e-96cc-4c80-f2f0-5c0918928f8b"
      },
      "outputs": [
        {
          "data": {
            "text/plain": [
              "array([0, 0, 0, ..., 0, 1, 1], dtype=int64)"
            ]
          },
          "execution_count": 15,
          "metadata": {},
          "output_type": "execute_result"
        },
        {
          "name": "stdout",
          "output_type": "stream",
          "text": [
            "time: 16 ms (started: 2023-12-29 21:39:37 +06:00)\n"
          ]
        }
      ],
      "source": [
        "result"
      ]
    },
    {
      "cell_type": "code",
      "execution_count": null,
      "metadata": {
        "id": "aGZ98Cj4Wm0B",
        "outputId": "175223ae-59a0-4eb7-dc9b-640f8eaf4837"
      },
      "outputs": [
        {
          "name": "stdout",
          "output_type": "stream",
          "text": [
            "Accuracy on Test Set:  71.06531649353562\n",
            "time: 16 ms (started: 2023-12-29 21:39:39 +06:00)\n"
          ]
        }
      ],
      "source": [
        "print(\"Accuracy on Test Set: \", accuracy_score(result,y_test)*100)"
      ]
    },
    {
      "cell_type": "code",
      "execution_count": null,
      "metadata": {
        "id": "zEh-qejgrjcf",
        "outputId": "5c305fc4-80b7-4a16-9789-c46568e9aa9c"
      },
      "outputs": [
        {
          "name": "stdout",
          "output_type": "stream",
          "text": [
            "time: 0 ns (started: 2023-12-29 21:39:41 +06:00)\n"
          ]
        }
      ],
      "source": [
        "from sklearn.metrics import roc_curve,auc"
      ]
    },
    {
      "cell_type": "code",
      "execution_count": null,
      "metadata": {
        "id": "Q4d7bPyPswkD",
        "outputId": "ca12996d-6610-43cf-f79d-6a687a5c69f8"
      },
      "outputs": [
        {
          "name": "stdout",
          "output_type": "stream",
          "text": [
            "time: 16 ms (started: 2023-12-29 21:39:43 +06:00)\n"
          ]
        }
      ],
      "source": [
        "fpr,tpr, _ = roc_curve(y_test, result)\n",
        "roc_auc = auc(fpr,tpr)"
      ]
    },
    {
      "cell_type": "code",
      "execution_count": null,
      "metadata": {
        "id": "M553uZv1tIz8",
        "outputId": "c6e4356d-f36a-4f54-b455-6998efbfca8c"
      },
      "outputs": [
        {
          "data": {
            "image/png": "[encoded data removed]",
            "text/plain": [
              "<Figure size 640x480 with 1 Axes>"
            ]
          },
          "metadata": {},
          "output_type": "display_data"
        },
        {
          "name": "stdout",
          "output_type": "stream",
          "text": [
            "time: 641 ms (started: 2023-12-29 21:39:45 +06:00)\n"
          ]
        }
      ],
      "source": [
        "plt.plot(fpr, tpr, label='ROC curve (AUC = {:.2f})'.format(roc_auc))\n",
        "plt.xlabel('False Positive Rate')\n",
        "plt.ylabel('True Positive Rate')\n",
        "plt.title('ROC Curve using SVC')\n",
        "plt.legend(loc=\"lower right\")\n",
        "plt.show()"
      ]
    },
    {
      "cell_type": "code",
      "execution_count": null,
      "metadata": {
        "id": "UWD-vhVhtKff",
        "outputId": "6cfa57dc-04d8-48be-ce06-20bf774abbba"
      },
      "outputs": [
        {
          "name": "stdout",
          "output_type": "stream",
          "text": [
            "time: 343 ms (started: 2023-12-29 21:39:48 +06:00)\n"
          ]
        }
      ],
      "source": [
        "from sklearn.metrics import confusion_matrix\n",
        "import seaborn as sns"
      ]
    },
    {
      "cell_type": "code",
      "execution_count": null,
      "metadata": {
        "id": "5u81KooYtxuM",
        "outputId": "5c4a1107-828c-4c27-9099-9b1a8e0c0c71"
      },
      "outputs": [
        {
          "data": {
            "image/png": "[encoded data removed]",
            "text/plain": [
              "<Figure size 800x600 with 1 Axes>"
            ]
          },
          "metadata": {},
          "output_type": "display_data"
        },
        {
          "name": "stdout",
          "output_type": "stream",
          "text": [
            "time: 94 ms (started: 2023-12-29 21:39:50 +06:00)\n"
          ]
        }
      ],
      "source": [
        "confusion=confusion_matrix(y_test,result)\n",
        "plt.figure(figsize=(8, 6))\n",
        "sns.heatmap(confusion, annot=True, fmt=\"d\", cmap=\"Blues\", cbar=False, xticklabels=['Bug Absent', 'Bug Present'], yticklabels=['Bug Absent', 'Bug Present'])\n",
        "plt.xlabel('Predicted')\n",
        "plt.ylabel('True')\n",
        "plt.title('Confusion Matrix for SVC')\n",
        "\n",
        "plt.show()"
      ]
    },
    {
      "cell_type": "code",
      "execution_count": null,
      "metadata": {
        "id": "-ggQmpMJM1Ap",
        "outputId": "c42297d5-23bb-4924-85a3-6db392951ab6"
      },
      "outputs": [
        {
          "name": "stdout",
          "output_type": "stream",
          "text": [
            "Requirement already satisfied: joblib in c:\\users\\mirza\\appdata\\local\\programs\\python\\python312\\lib\\site-packages (1.3.2)\n",
            "time: 3.14 s (started: 2023-12-29 21:39:52 +06:00)\n"
          ]
        },
        {
          "name": "stderr",
          "output_type": "stream",
          "text": [
            "\n",
            "[notice] A new release of pip is available: 23.3.1 -> 23.3.2\n",
            "[notice] To update, run: python.exe -m pip install --upgrade pip\n"
          ]
        }
      ],
      "source": [
        "!pip install joblib\n"
      ]
    },
    {
      "cell_type": "code",
      "execution_count": null,
      "metadata": {
        "id": "PFehKJB8NEOc",
        "outputId": "ebe9043b-469e-4f06-b7b7-2cfda6729863"
      },
      "outputs": [
        {
          "ename": "NameError",
          "evalue": "name 'joblib' is not defined",
          "output_type": "error",
          "traceback": [
            "\u001b[1;31m---------------------------------------------------------------------------\u001b[0m",
            "\u001b[1;31mNameError\u001b[0m                                 Traceback (most recent call last)",
            "Cell \u001b[1;32mIn[23], line 1\u001b[0m\n\u001b[1;32m----> 1\u001b[0m \u001b[43mjoblib\u001b[49m\u001b[38;5;241m.\u001b[39mdump(models, \u001b[38;5;124m'\u001b[39m\u001b[38;5;124msvm_model.joblib\u001b[39m\u001b[38;5;124m'\u001b[39m)\n",
            "\u001b[1;31mNameError\u001b[0m: name 'joblib' is not defined"
          ]
        },
        {
          "name": "stdout",
          "output_type": "stream",
          "text": [
            "time: 47 ms (started: 2023-12-29 21:39:58 +06:00)\n"
          ]
        }
      ],
      "source": [
        "joblib.dump(models, '/content/drive/MyDrive/CSE_4554_MachineLearning/xgboost_model.joblib')"
      ]
    },
    {
      "cell_type": "code",
      "execution_count": null,
      "metadata": {
        "id": "bmTnOEDyNM0r"
      },
      "outputs": [],
      "source": []
    }
  ],
  "metadata": {
    "colab": {
      "provenance": []
    },
    "kernelspec": {
      "display_name": "Python 3 (ipykernel)",
      "language": "python",
      "name": "python3"
    },
    "language_info": {
      "codemirror_mode": {
        "name": "ipython",
        "version": 3
      },
      "file_extension": ".py",
      "mimetype": "text/x-python",
      "name": "python",
      "nbconvert_exporter": "python",
      "pygments_lexer": "ipython3",
      "version": "3.12.0"
    }
  },
  "nbformat": 4,
  "nbformat_minor": 0
}