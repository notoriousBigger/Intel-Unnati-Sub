{
  "cells": [
    {
      "cell_type": "markdown",
      "source": [
        "# XGBoost Classifier"
      ],
      "metadata": {
        "id": "LR522QnThKBY"
      }
    },
    {
      "cell_type": "code",
      "source": [
        "import pandas as pd\n",
        "from xgboost import XGBClassifier\n",
        "from sklearn.preprocessing import StandardScaler\n",
        "from sklearn.pipeline import make_pipeline\n",
        "from sklearn.model_selection import train_test_split\n",
        "import numpy as np\n",
        "import matplotlib.pyplot as plt"
      ],
      "metadata": {
        "id": "XsrVFRv2hMU7"
      },
      "execution_count": null,
      "outputs": []
    },
    {
      "cell_type": "code",
      "source": [
        "!pip install ipython-autotime\n",
        "%load_ext autotime"
      ],
      "metadata": {
        "colab": {
          "base_uri": "https://localhost:8080/"
        },
        "id": "qUMNx1IChoIN",
        "outputId": "d89c955b-ac67-494f-95bf-7de55a119d93"
      },
      "execution_count": null,
      "outputs": [
        {
          "output_type": "stream",
          "name": "stdout",
          "text": [
            "Collecting ipython-autotime\n",
            "  Downloading ipython_autotime-0.3.2-py2.py3-none-any.whl (7.0 kB)\n",
            "Requirement already satisfied: ipython in /usr/local/lib/python3.10/dist-packages (from ipython-autotime) (7.34.0)\n",
            "Requirement already satisfied: setuptools>=18.5 in /usr/local/lib/python3.10/dist-packages (from ipython->ipython-autotime) (67.7.2)\n",
            "Collecting jedi>=0.16 (from ipython->ipython-autotime)\n",
            "  Downloading jedi-0.19.1-py2.py3-none-any.whl (1.6 MB)\n",
            "\u001b[2K     \u001b[90m━━━━━━━━━━━━━━━━━━━━━━━━━━━━━━━━━━━━━━━━\u001b[0m \u001b[32m1.6/1.6 MB\u001b[0m \u001b[31m14.4 MB/s\u001b[0m eta \u001b[36m0:00:00\u001b[0m\n",
            "\u001b[?25hRequirement already satisfied: decorator in /usr/local/lib/python3.10/dist-packages (from ipython->ipython-autotime) (4.4.2)\n",
            "Requirement already satisfied: pickleshare in /usr/local/lib/python3.10/dist-packages (from ipython->ipython-autotime) (0.7.5)\n",
            "Requirement already satisfied: traitlets>=4.2 in /usr/local/lib/python3.10/dist-packages (from ipython->ipython-autotime) (5.7.1)\n",
            "Requirement already satisfied: prompt-toolkit!=3.0.0,!=3.0.1,<3.1.0,>=2.0.0 in /usr/local/lib/python3.10/dist-packages (from ipython->ipython-autotime) (3.0.43)\n",
            "Requirement already satisfied: pygments in /usr/local/lib/python3.10/dist-packages (from ipython->ipython-autotime) (2.16.1)\n",
            "Requirement already satisfied: backcall in /usr/local/lib/python3.10/dist-packages (from ipython->ipython-autotime) (0.2.0)\n",
            "Requirement already satisfied: matplotlib-inline in /usr/local/lib/python3.10/dist-packages (from ipython->ipython-autotime) (0.1.6)\n",
            "Requirement already satisfied: pexpect>4.3 in /usr/local/lib/python3.10/dist-packages (from ipython->ipython-autotime) (4.9.0)\n",
            "Requirement already satisfied: parso<0.9.0,>=0.8.3 in /usr/local/lib/python3.10/dist-packages (from jedi>=0.16->ipython->ipython-autotime) (0.8.3)\n",
            "Requirement already satisfied: ptyprocess>=0.5 in /usr/local/lib/python3.10/dist-packages (from pexpect>4.3->ipython->ipython-autotime) (0.7.0)\n",
            "Requirement already satisfied: wcwidth in /usr/local/lib/python3.10/dist-packages (from prompt-toolkit!=3.0.0,!=3.0.1,<3.1.0,>=2.0.0->ipython->ipython-autotime) (0.2.12)\n",
            "Installing collected packages: jedi, ipython-autotime\n",
            "Successfully installed ipython-autotime-0.3.2 jedi-0.19.1\n",
            "time: 285 µs (started: 2023-12-30 14:41:31 +00:00)\n"
          ]
        }
      ]
    },
    {
      "cell_type": "code",
      "source": [
        "from google.colab import drive\n",
        "drive.mount('/content/drive')"
      ],
      "metadata": {
        "colab": {
          "base_uri": "https://localhost:8080/"
        },
        "id": "EkFMkLrboxH_",
        "outputId": "639a6371-dc80-4719-c533-04981dd0a9f5"
      },
      "execution_count": null,
      "outputs": [
        {
          "output_type": "stream",
          "name": "stdout",
          "text": [
            "Mounted at /content/drive\n",
            "time: 23.1 s (started: 2023-12-30 14:41:31 +00:00)\n"
          ]
        }
      ]
    },
    {
      "cell_type": "code",
      "source": [
        "datasets=[]\n",
        "for i in range(0,56):\n",
        "  df=pd.read_csv(f'/content/drive/MyDrive/CSE_4554_MachineLearning/datasets/dataset{i}.csv')\n",
        "  datasets.append(df)"
      ],
      "metadata": {
        "id": "yOMjoEtmhyVa",
        "colab": {
          "base_uri": "https://localhost:8080/"
        },
        "outputId": "97715fe2-74fc-42aa-9bea-0cce28287674"
      },
      "execution_count": null,
      "outputs": [
        {
          "output_type": "stream",
          "name": "stdout",
          "text": [
            "time: 51.8 s (started: 2023-12-30 14:41:54 +00:00)\n"
          ]
        }
      ]
    },
    {
      "cell_type": "code",
      "source": [
        "for i in range(len(datasets)):\n",
        "  datasets[i]=datasets[i].drop(['filename','Unnamed: 0'],axis=1)"
      ],
      "metadata": {
        "colab": {
          "base_uri": "https://localhost:8080/"
        },
        "id": "EJwUx_o2AsCI",
        "outputId": "78184ffd-1272-4156-e117-a8a63dbee33a"
      },
      "execution_count": null,
      "outputs": [
        {
          "output_type": "stream",
          "name": "stdout",
          "text": [
            "time: 204 ms (started: 2023-12-30 14:42:46 +00:00)\n"
          ]
        }
      ]
    },
    {
      "cell_type": "code",
      "source": [
        "models=[]\n",
        "for i in range(len(datasets)):\n",
        "  models.append(make_pipeline(StandardScaler(), XGBClassifier()))"
      ],
      "metadata": {
        "colab": {
          "base_uri": "https://localhost:8080/"
        },
        "id": "dzmtK9alBGWW",
        "outputId": "28abc02f-f24d-47f5-e68e-df5a30fef27c"
      },
      "execution_count": null,
      "outputs": [
        {
          "output_type": "stream",
          "name": "stdout",
          "text": [
            "time: 946 µs (started: 2023-12-30 14:42:46 +00:00)\n"
          ]
        }
      ]
    },
    {
      "cell_type": "code",
      "source": [
        "X_train=[]\n",
        "y_train=[]\n",
        "X_val=[]\n",
        "y_val=[]"
      ],
      "metadata": {
        "id": "PYkvlFJ_hq73",
        "colab": {
          "base_uri": "https://localhost:8080/"
        },
        "outputId": "5d0684bd-4c4e-48ba-e72d-47611331ba24"
      },
      "execution_count": null,
      "outputs": [
        {
          "output_type": "stream",
          "name": "stdout",
          "text": [
            "time: 466 µs (started: 2023-12-30 14:42:46 +00:00)\n"
          ]
        }
      ]
    },
    {
      "cell_type": "code",
      "source": [
        "for i in range(len(datasets)):\n",
        "  X=datasets[i].drop(['Bug Present'],axis=1).values\n",
        "  y=datasets[i]['Bug Present'].values\n",
        "  x_tr1,x_te1,y_tr1,y_te1=train_test_split(X,y,test_size=0.2,random_state=42)\n",
        "  X_train.append(x_tr1)\n",
        "  y_train.append(y_tr1)\n",
        "  X_val.append(x_te1)\n",
        "  y_val.append(y_te1)"
      ],
      "metadata": {
        "colab": {
          "base_uri": "https://localhost:8080/"
        },
        "id": "kJu4PZr3iJVJ",
        "outputId": "ddc2a18d-ff97-4329-c3c0-6dfcfd882759"
      },
      "execution_count": null,
      "outputs": [
        {
          "output_type": "stream",
          "name": "stdout",
          "text": [
            "time: 927 ms (started: 2023-12-30 14:42:46 +00:00)\n"
          ]
        }
      ]
    },
    {
      "cell_type": "code",
      "source": [
        "progress=0\n",
        "for i in range(len(datasets)):\n",
        "  models[i].fit(X_train[i],y_train[i])\n",
        "  progress+=1\n",
        "  print(\"Progress: \",progress/len(datasets)*100)"
      ],
      "metadata": {
        "id": "Fsbkhzh7VGrT",
        "colab": {
          "base_uri": "https://localhost:8080/"
        },
        "outputId": "2bd4be64-e868-47e2-cf03-a310abd1936c"
      },
      "execution_count": null,
      "outputs": [
        {
          "output_type": "stream",
          "name": "stdout",
          "text": [
            "Progress:  1.7857142857142856\n",
            "Progress:  3.571428571428571\n",
            "Progress:  5.357142857142857\n",
            "Progress:  7.142857142857142\n",
            "Progress:  8.928571428571429\n",
            "Progress:  10.714285714285714\n",
            "Progress:  12.5\n",
            "Progress:  14.285714285714285\n",
            "Progress:  16.071428571428573\n",
            "Progress:  17.857142857142858\n",
            "Progress:  19.642857142857142\n",
            "Progress:  21.428571428571427\n",
            "Progress:  23.214285714285715\n",
            "Progress:  25.0\n",
            "Progress:  26.785714285714285\n",
            "Progress:  28.57142857142857\n",
            "Progress:  30.357142857142854\n",
            "Progress:  32.142857142857146\n",
            "Progress:  33.92857142857143\n",
            "Progress:  35.714285714285715\n",
            "Progress:  37.5\n",
            "Progress:  39.285714285714285\n",
            "Progress:  41.07142857142857\n",
            "Progress:  42.857142857142854\n",
            "Progress:  44.642857142857146\n",
            "Progress:  46.42857142857143\n",
            "Progress:  48.214285714285715\n",
            "Progress:  50.0\n",
            "Progress:  51.78571428571429\n",
            "Progress:  53.57142857142857\n",
            "Progress:  55.35714285714286\n",
            "Progress:  57.14285714285714\n",
            "Progress:  58.92857142857143\n",
            "Progress:  60.71428571428571\n",
            "Progress:  62.5\n",
            "Progress:  64.28571428571429\n",
            "Progress:  66.07142857142857\n",
            "Progress:  67.85714285714286\n",
            "Progress:  69.64285714285714\n",
            "Progress:  71.42857142857143\n",
            "Progress:  73.21428571428571\n",
            "Progress:  75.0\n",
            "Progress:  76.78571428571429\n",
            "Progress:  78.57142857142857\n",
            "Progress:  80.35714285714286\n",
            "Progress:  82.14285714285714\n",
            "Progress:  83.92857142857143\n",
            "Progress:  85.71428571428571\n",
            "Progress:  87.5\n",
            "Progress:  89.28571428571429\n",
            "Progress:  91.07142857142857\n",
            "Progress:  92.85714285714286\n",
            "Progress:  94.64285714285714\n",
            "Progress:  96.42857142857143\n",
            "Progress:  98.21428571428571\n",
            "Progress:  100.0\n",
            "time: 43.7 s (started: 2023-12-30 14:42:47 +00:00)\n"
          ]
        }
      ]
    },
    {
      "cell_type": "markdown",
      "source": [
        "# Performance Metrics"
      ],
      "metadata": {
        "id": "NW8caye_sGaW"
      }
    },
    {
      "cell_type": "code",
      "source": [
        "y_Pred=[]\n",
        "for i in range(len(datasets)):\n",
        "  y_Pred.append(models[i].predict(X_val[i]))"
      ],
      "metadata": {
        "id": "8SNpj_NcFfX6",
        "colab": {
          "base_uri": "https://localhost:8080/"
        },
        "outputId": "c249ab94-3523-4ffe-fd05-18cb8e93d117"
      },
      "execution_count": null,
      "outputs": [
        {
          "output_type": "stream",
          "name": "stdout",
          "text": [
            "time: 1.87 s (started: 2023-12-30 14:43:31 +00:00)\n"
          ]
        }
      ]
    },
    {
      "cell_type": "code",
      "source": [
        "from sklearn.metrics import accuracy_score"
      ],
      "metadata": {
        "id": "UlsHYaRLrdXT",
        "colab": {
          "base_uri": "https://localhost:8080/"
        },
        "outputId": "5b19e18e-32d9-4afa-a5e5-2d6c4122cbd4"
      },
      "execution_count": null,
      "outputs": [
        {
          "output_type": "stream",
          "name": "stdout",
          "text": [
            "time: 409 µs (started: 2023-12-30 14:43:32 +00:00)\n"
          ]
        }
      ]
    },
    {
      "cell_type": "code",
      "source": [
        "accuracy=[]\n",
        "for i in range(len(datasets)):\n",
        "  accuracy.append(accuracy_score(y_Pred[i],y_val[i]))\n",
        "print(\"Accuracy on Validation Set: \",sum(accuracy)/len(datasets)*100,\"%\")"
      ],
      "metadata": {
        "id": "LbsnzMz2reiG",
        "colab": {
          "base_uri": "https://localhost:8080/"
        },
        "outputId": "595cd43d-a5d8-468d-f9c2-6119e57b27d2"
      },
      "execution_count": null,
      "outputs": [
        {
          "output_type": "stream",
          "name": "stdout",
          "text": [
            "Accuracy on Validation Set:  73.8001549657404 %\n",
            "time: 73.5 ms (started: 2023-12-30 14:43:32 +00:00)\n"
          ]
        }
      ]
    },
    {
      "cell_type": "code",
      "source": [
        "test_set=pd.read_csv(f'/content/drive/MyDrive/CSE_4554_MachineLearning/datasets/dataset56.csv')\n",
        "test_set=test_set.drop(['filename','Unnamed: 0'],axis=1)\n",
        "X_test,y_test=test_set.drop(['Bug Present'],axis=1).values,test_set['Bug Present'].values\n",
        "y_test_pred=[]\n",
        "for i in range(len(datasets)):\n",
        "  y_pred=models[i].predict(X_test)\n",
        "  y_test_pred.append(y_pred)\n",
        "\n",
        "\n"
      ],
      "metadata": {
        "id": "MmS_guQaNRnI",
        "colab": {
          "base_uri": "https://localhost:8080/"
        },
        "outputId": "37e12d3f-d814-4fc4-fe41-0c1f4e2c0d41"
      },
      "execution_count": null,
      "outputs": [
        {
          "output_type": "stream",
          "name": "stdout",
          "text": [
            "time: 6.4 s (started: 2023-12-30 14:43:33 +00:00)\n"
          ]
        }
      ]
    },
    {
      "cell_type": "code",
      "source": [
        "result = []\n",
        "y_test_pred=np.array(y_test_pred)\n",
        "for column in y_test_pred.T:\n",
        "    most_common = np.bincount(column).argmax()\n",
        "    result.append(most_common)\n",
        "\n",
        "result = np.array(result)"
      ],
      "metadata": {
        "id": "7NZFhi0IO1LP",
        "colab": {
          "base_uri": "https://localhost:8080/"
        },
        "outputId": "36dbf81b-0caa-470c-d4d8-2cccb755766e"
      },
      "execution_count": null,
      "outputs": [
        {
          "output_type": "stream",
          "name": "stdout",
          "text": [
            "time: 154 ms (started: 2023-12-30 14:43:39 +00:00)\n"
          ]
        }
      ]
    },
    {
      "cell_type": "code",
      "source": [
        "result"
      ],
      "metadata": {
        "id": "IpMroJ2KPyw8",
        "colab": {
          "base_uri": "https://localhost:8080/"
        },
        "outputId": "eb31af90-f2f5-4a58-ab7f-2d8fa06b91d3"
      },
      "execution_count": null,
      "outputs": [
        {
          "output_type": "execute_result",
          "data": {
            "text/plain": [
              "array([0, 0, 0, ..., 1, 1, 1])"
            ]
          },
          "metadata": {},
          "execution_count": 16
        },
        {
          "output_type": "stream",
          "name": "stdout",
          "text": [
            "time: 1.93 ms (started: 2023-12-30 14:43:39 +00:00)\n"
          ]
        }
      ]
    },
    {
      "cell_type": "code",
      "source": [
        "print(\"Accuracy on Test Set: \", accuracy_score(result,y_test)*100)"
      ],
      "metadata": {
        "id": "aGZ98Cj4Wm0B",
        "colab": {
          "base_uri": "https://localhost:8080/"
        },
        "outputId": "1da04e4f-8376-454d-9707-453d3d858134"
      },
      "execution_count": null,
      "outputs": [
        {
          "output_type": "stream",
          "name": "stdout",
          "text": [
            "Accuracy on Test Set:  75.28398475450265\n",
            "time: 7.85 ms (started: 2023-12-30 14:43:39 +00:00)\n"
          ]
        }
      ]
    },
    {
      "cell_type": "code",
      "source": [
        "from sklearn.metrics import roc_curve,auc"
      ],
      "metadata": {
        "id": "zEh-qejgrjcf",
        "colab": {
          "base_uri": "https://localhost:8080/"
        },
        "outputId": "d0f0630d-393a-44c5-fdeb-75df1f179f3c"
      },
      "execution_count": null,
      "outputs": [
        {
          "output_type": "stream",
          "name": "stdout",
          "text": [
            "time: 336 µs (started: 2023-12-30 14:43:39 +00:00)\n"
          ]
        }
      ]
    },
    {
      "cell_type": "code",
      "source": [
        "fpr,tpr, _ = roc_curve(y_test, result)\n",
        "roc_auc = auc(fpr,tpr)"
      ],
      "metadata": {
        "id": "Q4d7bPyPswkD",
        "colab": {
          "base_uri": "https://localhost:8080/"
        },
        "outputId": "ef4b9386-6fe7-4963-8af7-14d8e1b442b3"
      },
      "execution_count": null,
      "outputs": [
        {
          "output_type": "stream",
          "name": "stdout",
          "text": [
            "time: 4.49 ms (started: 2023-12-30 14:43:39 +00:00)\n"
          ]
        }
      ]
    },
    {
      "cell_type": "code",
      "source": [
        "plt.plot(fpr, tpr, label='ROC curve (AUC = {:.2f})'.format(roc_auc))\n",
        "plt.xlabel('False Positive Rate')\n",
        "plt.ylabel('True Positive Rate')\n",
        "plt.title('ROC Curve using XGBoost')\n",
        "plt.legend(loc=\"lower right\")\n",
        "plt.show()"
      ],
      "metadata": {
        "id": "M553uZv1tIz8",
        "colab": {
          "base_uri": "https://localhost:8080/",
          "height": 489
        },
        "outputId": "7315416d-96d5-49ae-c715-cd6349230357"
      },
      "execution_count": null,
      "outputs": [
        {
          "output_type": "display_data",
          "data": {
            "text/plain": [
              "<Figure size 640x480 with 1 Axes>"
            ],
            "image/png": "[encoded data removed]"
          },
          "metadata": {}
        },
        {
          "output_type": "stream",
          "name": "stdout",
          "text": [
            "time: 295 ms (started: 2023-12-30 14:43:39 +00:00)\n"
          ]
        }
      ]
    },
    {
      "cell_type": "code",
      "source": [
        "from sklearn.metrics import confusion_matrix\n",
        "import seaborn as sns"
      ],
      "metadata": {
        "id": "UWD-vhVhtKff",
        "colab": {
          "base_uri": "https://localhost:8080/"
        },
        "outputId": "7828f40f-0686-4730-a819-4a939892d885"
      },
      "execution_count": null,
      "outputs": [
        {
          "output_type": "stream",
          "name": "stdout",
          "text": [
            "time: 165 ms (started: 2023-12-30 14:43:39 +00:00)\n"
          ]
        }
      ]
    },
    {
      "cell_type": "code",
      "source": [
        "confusion=confusion_matrix(y_test,result)\n",
        "plt.figure(figsize=(8, 6))\n",
        "sns.heatmap(confusion, annot=True, fmt=\"d\", cmap=\"Blues\", cbar=False, xticklabels=['Bug Absent', 'Bug Present'], yticklabels=['Bug Absent', 'Bug Present'])\n",
        "plt.xlabel('Predicted')\n",
        "plt.ylabel('True')\n",
        "plt.title('Confusion Matrix for XGBoost')\n",
        "\n",
        "plt.show()"
      ],
      "metadata": {
        "id": "5u81KooYtxuM",
        "colab": {
          "base_uri": "https://localhost:8080/",
          "height": 581
        },
        "outputId": "b98758ee-298d-4098-fb18-aa6e98459538"
      },
      "execution_count": null,
      "outputs": [
        {
          "output_type": "display_data",
          "data": {
            "text/plain": [
              "<Figure size 800x600 with 1 Axes>"
            ],
            "image/png": "[encoded data removed]"
          },
          "metadata": {}
        },
        {
          "output_type": "stream",
          "name": "stdout",
          "text": [
            "time: 127 ms (started: 2023-12-30 14:43:40 +00:00)\n"
          ]
        }
      ]
    },
    {
      "cell_type": "code",
      "source": [
        "!pip install joblib\n"
      ],
      "metadata": {
        "id": "-ggQmpMJM1Ap",
        "colab": {
          "base_uri": "https://localhost:8080/"
        },
        "outputId": "d7654b30-84fb-479e-aff8-b1ce99cf1712"
      },
      "execution_count": null,
      "outputs": [
        {
          "output_type": "stream",
          "name": "stdout",
          "text": [
            "Requirement already satisfied: joblib in /usr/local/lib/python3.10/dist-packages (1.3.2)\n",
            "time: 4.02 s (started: 2023-12-30 14:43:40 +00:00)\n"
          ]
        }
      ]
    },
    {
      "cell_type": "code",
      "source": [
        "import joblib\n",
        "joblib.dump(models, '/content/drive/MyDrive/CSE_4554_MachineLearning/xgboost_model.joblib')"
      ],
      "metadata": {
        "id": "PFehKJB8NEOc",
        "colab": {
          "base_uri": "https://localhost:8080/"
        },
        "outputId": "9e472e51-4e2f-4e7a-9077-ce62cef7ccb0"
      },
      "execution_count": null,
      "outputs": [
        {
          "output_type": "execute_result",
          "data": {
            "text/plain": [
              "['/content/drive/MyDrive/CSE_4554_MachineLearning/xgboost_model.joblib']"
            ]
          },
          "metadata": {},
          "execution_count": 24
        },
        {
          "output_type": "stream",
          "name": "stdout",
          "text": [
            "time: 702 ms (started: 2023-12-30 14:43:44 +00:00)\n"
          ]
        }
      ]
    },
    {
      "cell_type": "code",
      "source": [
        "from sklearn.model_selection import GridSearchCV, train_test_split\n",
        "\n",
        "param_grid = {}\n",
        "dtree = XGBClassifier()\n",
        "grid_search=[]\n",
        "epochs=len(datasets)\n",
        "for i in range(epochs):\n",
        "    print(f'{i}th model: ')\n",
        "    grid_search_tmp = GridSearchCV(dtree, param_grid, scoring='accuracy', cv=10)\n",
        "    stdSclr=StandardScaler()\n",
        "    stdSclr.fit(X_train[i])\n",
        "    grid_search_tmp.fit(stdSclr.transform(X_train[i]), y_train[i])\n",
        "    grid_search.append(grid_search_tmp)\n",
        "    print(\"Progress=\",(i/epochs)*100)\n",
        "\n"
      ],
      "metadata": {
        "id": "bmTnOEDyNM0r",
        "colab": {
          "base_uri": "https://localhost:8080/"
        },
        "outputId": "54c63c86-1104-414b-cc78-1708891224c6"
      },
      "execution_count": null,
      "outputs": [
        {
          "output_type": "stream",
          "name": "stdout",
          "text": [
            "0th model: \n",
            "Progress= 0.0\n",
            "1th model: \n",
            "Progress= 1.7857142857142856\n",
            "2th model: \n",
            "Progress= 3.571428571428571\n",
            "3th model: \n",
            "Progress= 5.357142857142857\n",
            "4th model: \n",
            "Progress= 7.142857142857142\n",
            "5th model: \n",
            "Progress= 8.928571428571429\n",
            "6th model: \n",
            "Progress= 10.714285714285714\n",
            "7th model: \n",
            "Progress= 12.5\n",
            "8th model: \n",
            "Progress= 14.285714285714285\n",
            "9th model: \n",
            "Progress= 16.071428571428573\n",
            "10th model: \n",
            "Progress= 17.857142857142858\n",
            "11th model: \n",
            "Progress= 19.642857142857142\n",
            "12th model: \n",
            "Progress= 21.428571428571427\n",
            "13th model: \n",
            "Progress= 23.214285714285715\n",
            "14th model: \n",
            "Progress= 25.0\n",
            "15th model: \n",
            "Progress= 26.785714285714285\n",
            "16th model: \n",
            "Progress= 28.57142857142857\n",
            "17th model: \n",
            "Progress= 30.357142857142854\n",
            "18th model: \n",
            "Progress= 32.142857142857146\n",
            "19th model: \n",
            "Progress= 33.92857142857143\n",
            "20th model: \n",
            "Progress= 35.714285714285715\n",
            "21th model: \n",
            "Progress= 37.5\n",
            "22th model: \n",
            "Progress= 39.285714285714285\n",
            "23th model: \n",
            "Progress= 41.07142857142857\n",
            "24th model: \n",
            "Progress= 42.857142857142854\n",
            "25th model: \n",
            "Progress= 44.642857142857146\n",
            "26th model: \n",
            "Progress= 46.42857142857143\n",
            "27th model: \n",
            "Progress= 48.214285714285715\n",
            "28th model: \n",
            "Progress= 50.0\n",
            "29th model: \n",
            "Progress= 51.78571428571429\n",
            "30th model: \n",
            "Progress= 53.57142857142857\n",
            "31th model: \n",
            "Progress= 55.35714285714286\n",
            "32th model: \n",
            "Progress= 57.14285714285714\n",
            "33th model: \n",
            "Progress= 58.92857142857143\n",
            "34th model: \n",
            "Progress= 60.71428571428571\n",
            "35th model: \n",
            "Progress= 62.5\n",
            "36th model: \n",
            "Progress= 64.28571428571429\n",
            "37th model: \n",
            "Progress= 66.07142857142857\n",
            "38th model: \n",
            "Progress= 67.85714285714286\n",
            "39th model: \n",
            "Progress= 69.64285714285714\n",
            "40th model: \n",
            "Progress= 71.42857142857143\n",
            "41th model: \n",
            "Progress= 73.21428571428571\n",
            "42th model: \n",
            "Progress= 75.0\n",
            "43th model: \n",
            "Progress= 76.78571428571429\n",
            "44th model: \n",
            "Progress= 78.57142857142857\n",
            "45th model: \n",
            "Progress= 80.35714285714286\n",
            "46th model: \n",
            "Progress= 82.14285714285714\n",
            "47th model: \n",
            "Progress= 83.92857142857143\n",
            "48th model: \n",
            "Progress= 85.71428571428571\n",
            "49th model: \n",
            "Progress= 87.5\n",
            "50th model: \n",
            "Progress= 89.28571428571429\n",
            "51th model: \n",
            "Progress= 91.07142857142857\n",
            "52th model: \n",
            "Progress= 92.85714285714286\n",
            "53th model: \n",
            "Progress= 94.64285714285714\n",
            "54th model: \n",
            "Progress= 96.42857142857143\n",
            "55th model: \n",
            "Progress= 98.21428571428571\n",
            "time: 7min 23s (started: 2023-12-30 14:49:51 +00:00)\n"
          ]
        }
      ]
    },
    {
      "cell_type": "code",
      "source": [
        "val_accuracy=[]\n",
        "for i in range(epochs):\n",
        "    val_accuracy.append(grid_search[i].score(StandardScaler().fit(X_val[i]).transform(X_val[i]), y_val[i]))\n",
        "print(sum(val_accuracy)/epochs*100)\n",
        "\n",
        "test_accuracy=[]\n",
        "for i in range(epochs):\n",
        "    test_accuracy.append(grid_search[i].score(StandardScaler().fit(X_test).transform(X_test), y_test))\n",
        "print(sum(test_accuracy)/epochs*100)"
      ],
      "metadata": {
        "colab": {
          "base_uri": "https://localhost:8080/"
        },
        "id": "67j-I7kdK9Yf",
        "outputId": "c189e8a8-d2ab-4d93-8e02-098598d4b4fa"
      },
      "execution_count": null,
      "outputs": [
        {
          "output_type": "stream",
          "name": "stdout",
          "text": [
            "70.67501253399368\n",
            "58.680184856993364\n",
            "time: 8.69 s (started: 2023-12-30 14:57:15 +00:00)\n"
          ]
        }
      ]
    },
    {
      "cell_type": "code",
      "source": [],
      "metadata": {
        "id": "mBbw2KlWNl_g"
      },
      "execution_count": null,
      "outputs": []
    }
  ],
  "metadata": {
    "colab": {
      "provenance": []
    },
    "kernelspec": {
      "display_name": "Python 3",
      "name": "python3"
    },
    "language_info": {
      "codemirror_mode": {
        "name": "ipython",
        "version": 3
      },
      "file_extension": ".py",
      "mimetype": "text/x-python",
      "name": "python",
      "nbconvert_exporter": "python",
      "pygments_lexer": "ipython3",
      "version": "3.12.0"
    }
  },
  "nbformat": 4,
  "nbformat_minor": 0
}